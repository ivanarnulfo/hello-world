{
  "nbformat": 4,
  "nbformat_minor": 0,
  "metadata": {
    "colab": {
      "name": "Uber_Data_Analysis.ipynb",
      "provenance": [],
      "collapsed_sections": [
        "8jSvBLWi73vR"
      ],
      "toc_visible": true,
      "include_colab_link": true
    },
    "kernelspec": {
      "display_name": "Python 3",
      "language": "python",
      "name": "python3"
    },
    "language_info": {
      "codemirror_mode": {
        "name": "ipython",
        "version": 3
      },
      "file_extension": ".py",
      "mimetype": "text/x-python",
      "name": "python",
      "nbconvert_exporter": "python",
      "pygments_lexer": "ipython3",
      "version": "3.8.3"
    }
  },
  "cells": [
    {
      "cell_type": "markdown",
      "metadata": {
        "id": "view-in-github",
        "colab_type": "text"
      },
      "source": [
        "<a href=\"https://colab.research.google.com/github/ivanarnulfo/hello-world/blob/IVANAIML/Uber_Data_Analysis.ipynb\" target=\"_parent\"><img src=\"https://colab.research.google.com/assets/colab-badge.svg\" alt=\"Open In Colab\"/></a>"
      ]
    },
    {
      "cell_type": "markdown",
      "metadata": {
        "id": "DBcX05TS73uH"
      },
      "source": [
        "## Case study  - Uber Data Analysis\n",
        "\n",
        "You have the uber drive data for a driver which captures the differnet aspects of driving behavior. You are a part of the project where you need to grill this data and report the important findings from the grilling and drilling exercise. You also need to provide some useful insights about the trip behaviour of a Uber driver.\n",
        "Let us try to dive into the data with pandas and numpy by our side!\n",
        "\n",
        "#### Dataset - \n",
        "There are two datasets to be used here. The dataset contains-\n",
        "\n",
        "**Uberdrive.csv**\n",
        "- Trip_Id - Id for the trip\n",
        "- Start Date - the date and time of the start of the trip\n",
        "- End Date - the date and time of the end of the trip\n",
        "- Start Location - staring location of the trip \n",
        "- End Location  - location where the trip ended\n",
        "- Purpose of drive - Purpose of the trip (Business, Personal, Meals, Errands, Meetings, Customer Support etc.)\n",
        "\n",
        "\n",
        "**Uberdrive_Miles.csv**\n",
        "- Trip_Id - Id for the trip\n",
        "- Miles Driven  - Total miles driven between the start and the end of the trip\n",
        "\n",
        "#### Objective-\n",
        "\n",
        "The aim is to create a driver profile based on the below aspects on driving behavior.\n",
        "- Name and number of all the unique start and stop points\n",
        "- Popular start and stop points\n",
        "- Rides with same start and stop points\n",
        "- Starting point from which most miles have been driven\n",
        "- Start- stop pairs that are most travelled in terms of distance\n",
        "- busiest month in terms of number of drives and miles driven\n",
        "- busiest day of the week\n",
        "- peak hours\n",
        "- most frequent trip category\n",
        "- most frequent trip purpose\n",
        "- miles driven per category and purpose\n",
        "- percent composition of business miles vs personal miles\n",
        "- time spent per category and purpose\n",
        "\n",
        "----------------------\n",
        " #### Concepts To cover \n",
        "----------------------\n",
        "- 1. <a href = #link1>Overview of the data at hand</a>\n",
        "- 2. <a href = #link3>Filtering Data</a> \n",
        "- 3. <a href = #link2>Data profiling and the functions offered by pandas for understanding the data</a>\n",
        "- 4. <a href = #link4>DateTime operations</a> \n",
        "\n",
        "\n"
      ]
    },
    {
      "cell_type": "code",
      "metadata": {
        "id": "SY3vuCtI73uN"
      },
      "source": [
        "# Import the libraries \n",
        "import numpy as np\n",
        "import pandas as pd\n",
        "from datetime import datetime"
      ],
      "execution_count": 17,
      "outputs": []
    },
    {
      "cell_type": "markdown",
      "metadata": {
        "id": "UcdacxewjqDd"
      },
      "source": [
        "### <a id = \"link1\"></a>Overview of the data"
      ]
    },
    {
      "cell_type": "code",
      "metadata": {
        "id": "4FvdGEL573uQ"
      },
      "source": [
        "# Read the Data\n",
        "df = pd.read_csv('/uberdrive.csv')"
      ],
      "execution_count": 23,
      "outputs": []
    },
    {
      "cell_type": "code",
      "metadata": {
        "colab": {
          "base_uri": "https://localhost:8080/"
        },
        "id": "pY2b3rTNEUs2",
        "outputId": "723e78a9-165b-4b35-d728-5eb0b6c4185c"
      },
      "source": [
        "from google.colab import drive\n",
        "drive.mount('/content/drive')"
      ],
      "execution_count": 19,
      "outputs": [
        {
          "output_type": "stream",
          "text": [
            "Mounted at /content/drive\n"
          ],
          "name": "stdout"
        }
      ]
    },
    {
      "cell_type": "code",
      "metadata": {
        "colab": {
          "base_uri": "https://localhost:8080/",
          "height": 142
        },
        "id": "rfp142SP73uS",
        "scrolled": true,
        "outputId": "7b233e60-8637-4924-c90f-69c6c594a6af"
      },
      "source": [
        "# View first 3 rows of data \n",
        "df.head(3) "
      ],
      "execution_count": 24,
      "outputs": [
        {
          "output_type": "execute_result",
          "data": {
            "text/html": [
              "<div>\n",
              "<style scoped>\n",
              "    .dataframe tbody tr th:only-of-type {\n",
              "        vertical-align: middle;\n",
              "    }\n",
              "\n",
              "    .dataframe tbody tr th {\n",
              "        vertical-align: top;\n",
              "    }\n",
              "\n",
              "    .dataframe thead th {\n",
              "        text-align: right;\n",
              "    }\n",
              "</style>\n",
              "<table border=\"1\" class=\"dataframe\">\n",
              "  <thead>\n",
              "    <tr style=\"text-align: right;\">\n",
              "      <th></th>\n",
              "      <th>Trip_Id</th>\n",
              "      <th>START_DATE*</th>\n",
              "      <th>END_DATE*</th>\n",
              "      <th>CATEGORY*</th>\n",
              "      <th>START*</th>\n",
              "      <th>STOP*</th>\n",
              "      <th>PURPOSE*</th>\n",
              "    </tr>\n",
              "  </thead>\n",
              "  <tbody>\n",
              "    <tr>\n",
              "      <th>0</th>\n",
              "      <td>1</td>\n",
              "      <td>01-01-2016 21:11</td>\n",
              "      <td>01-01-2016 21:17</td>\n",
              "      <td>Business</td>\n",
              "      <td>Fort Pierce</td>\n",
              "      <td>Fort Pierce</td>\n",
              "      <td>Meal/Entertain</td>\n",
              "    </tr>\n",
              "    <tr>\n",
              "      <th>1</th>\n",
              "      <td>2</td>\n",
              "      <td>01-02-2016 01:25</td>\n",
              "      <td>01-02-2016 01:37</td>\n",
              "      <td>Business</td>\n",
              "      <td>Fort Pierce</td>\n",
              "      <td>Fort Pierce</td>\n",
              "      <td>NaN</td>\n",
              "    </tr>\n",
              "    <tr>\n",
              "      <th>2</th>\n",
              "      <td>3</td>\n",
              "      <td>01-02-2016 20:25</td>\n",
              "      <td>01-02-2016 20:38</td>\n",
              "      <td>Business</td>\n",
              "      <td>Fort Pierce</td>\n",
              "      <td>Fort Pierce</td>\n",
              "      <td>Errand/Supplies</td>\n",
              "    </tr>\n",
              "  </tbody>\n",
              "</table>\n",
              "</div>"
            ],
            "text/plain": [
              "   Trip_Id       START_DATE*  ...        STOP*         PURPOSE*\n",
              "0        1  01-01-2016 21:11  ...  Fort Pierce   Meal/Entertain\n",
              "1        2  01-02-2016 01:25  ...  Fort Pierce              NaN\n",
              "2        3  01-02-2016 20:25  ...  Fort Pierce  Errand/Supplies\n",
              "\n",
              "[3 rows x 7 columns]"
            ]
          },
          "metadata": {
            "tags": []
          },
          "execution_count": 24
        }
      ]
    },
    {
      "cell_type": "code",
      "metadata": {
        "id": "TYRpS9KWjqDf"
      },
      "source": [
        "df_miles = pd.read_csv('/UberDrive_Miles.csv')"
      ],
      "execution_count": 26,
      "outputs": []
    },
    {
      "cell_type": "code",
      "metadata": {
        "id": "ItQdTrU4jqDf",
        "colab": {
          "base_uri": "https://localhost:8080/",
          "height": 142
        },
        "outputId": "99da4690-6c81-46e4-f541-66955c3f1c86"
      },
      "source": [
        "df_miles.tail(3)"
      ],
      "execution_count": 29,
      "outputs": [
        {
          "output_type": "execute_result",
          "data": {
            "text/html": [
              "<div>\n",
              "<style scoped>\n",
              "    .dataframe tbody tr th:only-of-type {\n",
              "        vertical-align: middle;\n",
              "    }\n",
              "\n",
              "    .dataframe tbody tr th {\n",
              "        vertical-align: top;\n",
              "    }\n",
              "\n",
              "    .dataframe thead th {\n",
              "        text-align: right;\n",
              "    }\n",
              "</style>\n",
              "<table border=\"1\" class=\"dataframe\">\n",
              "  <thead>\n",
              "    <tr style=\"text-align: right;\">\n",
              "      <th></th>\n",
              "      <th>Trip_Id</th>\n",
              "      <th>MILES*</th>\n",
              "    </tr>\n",
              "  </thead>\n",
              "  <tbody>\n",
              "    <tr>\n",
              "      <th>1152</th>\n",
              "      <td>1153</td>\n",
              "      <td>16.2</td>\n",
              "    </tr>\n",
              "    <tr>\n",
              "      <th>1153</th>\n",
              "      <td>1154</td>\n",
              "      <td>6.4</td>\n",
              "    </tr>\n",
              "    <tr>\n",
              "      <th>1154</th>\n",
              "      <td>1155</td>\n",
              "      <td>48.2</td>\n",
              "    </tr>\n",
              "  </tbody>\n",
              "</table>\n",
              "</div>"
            ],
            "text/plain": [
              "      Trip_Id  MILES*\n",
              "1152     1153    16.2\n",
              "1153     1154     6.4\n",
              "1154     1155    48.2"
            ]
          },
          "metadata": {
            "tags": []
          },
          "execution_count": 29
        }
      ]
    },
    {
      "cell_type": "code",
      "metadata": {
        "colab": {
          "base_uri": "https://localhost:8080/"
        },
        "id": "oG5qPCEa73uY",
        "outputId": "d1117a21-90a1-40bb-bc9f-76f278737fae"
      },
      "source": [
        "# understand shape and size of data from Uberdrive\n",
        "print(df.shape)\n",
        "print(df.size)"
      ],
      "execution_count": 30,
      "outputs": [
        {
          "output_type": "stream",
          "text": [
            "(1155, 7)\n",
            "8085\n"
          ],
          "name": "stdout"
        }
      ]
    },
    {
      "cell_type": "code",
      "metadata": {
        "id": "wkRe1HmjjqDg",
        "colab": {
          "base_uri": "https://localhost:8080/"
        },
        "outputId": "c7a354ee-e6ca-4e59-beaa-3ee8614bd4e0"
      },
      "source": [
        "# check info about data (includes column names, the number of non-null values in it, and data-type for each column.)\n",
        "df.info()\n",
        "print()\n",
        "df_miles.info()"
      ],
      "execution_count": 31,
      "outputs": [
        {
          "output_type": "stream",
          "text": [
            "<class 'pandas.core.frame.DataFrame'>\n",
            "RangeIndex: 1155 entries, 0 to 1154\n",
            "Data columns (total 7 columns):\n",
            " #   Column       Non-Null Count  Dtype \n",
            "---  ------       --------------  ----- \n",
            " 0   Trip_Id      1155 non-null   int64 \n",
            " 1   START_DATE*  1155 non-null   object\n",
            " 2   END_DATE*    1155 non-null   object\n",
            " 3   CATEGORY*    1155 non-null   object\n",
            " 4   START*       1155 non-null   object\n",
            " 5   STOP*        1155 non-null   object\n",
            " 6   PURPOSE*     653 non-null    object\n",
            "dtypes: int64(1), object(6)\n",
            "memory usage: 63.3+ KB\n",
            "\n",
            "<class 'pandas.core.frame.DataFrame'>\n",
            "RangeIndex: 1155 entries, 0 to 1154\n",
            "Data columns (total 2 columns):\n",
            " #   Column   Non-Null Count  Dtype  \n",
            "---  ------   --------------  -----  \n",
            " 0   Trip_Id  1155 non-null   int64  \n",
            " 1   MILES*   1155 non-null   float64\n",
            "dtypes: float64(1), int64(1)\n",
            "memory usage: 18.2 KB\n"
          ],
          "name": "stdout"
        }
      ]
    },
    {
      "cell_type": "markdown",
      "metadata": {
        "id": "Omq73OvI73uf"
      },
      "source": [
        "1. PURPOSE column has lots of missing values  - **We will talk about handling missing values in the upcoming weeks**\n",
        "2. Some of the columns have a 1155 records while there are others with 653, why is that? Lets explore\n",
        "3. We see some updates can be made in the column names, lets rename the columns"
      ]
    },
    {
      "cell_type": "markdown",
      "metadata": {
        "id": "PgNx3U4j73ux"
      },
      "source": [
        "### Renaming columns"
      ]
    },
    {
      "cell_type": "code",
      "metadata": {
        "colab": {
          "base_uri": "https://localhost:8080/"
        },
        "id": "j0YgTTz-73ux",
        "outputId": "b841c11f-e5ee-4d87-8dbc-ee5b0e112998"
      },
      "source": [
        "# Approach 1\n",
        "# Replace the * character from all the  columns\n",
        "df.columns = df.columns.str.replace(\"*\", \"\")\n",
        "\n",
        "# Approach 2\n",
        "#\n",
        "# You can also rename the specific column names \n",
        "df_miles.rename(columns = {'MILES*':'MILES'}, inplace=True)\n",
        "print(df.columns,\"\\n\", df_miles.columns)"
      ],
      "execution_count": 32,
      "outputs": [
        {
          "output_type": "stream",
          "text": [
            "Index(['Trip_Id', 'START_DATE', 'END_DATE', 'CATEGORY', 'START', 'STOP',\n",
            "       'PURPOSE'],\n",
            "      dtype='object') \n",
            " Index(['Trip_Id', 'MILES'], dtype='object')\n"
          ],
          "name": "stdout"
        }
      ]
    },
    {
      "cell_type": "markdown",
      "metadata": {
        "id": "okKeivRdjqDi"
      },
      "source": [
        "**The column names were updated.**"
      ]
    },
    {
      "cell_type": "markdown",
      "metadata": {
        "id": "Ebt8vpgH73u3"
      },
      "source": [
        "### <a id = \"link3\"></a>Filtering dataframes\n",
        "#### Using null values"
      ]
    },
    {
      "cell_type": "code",
      "metadata": {
        "colab": {
          "base_uri": "https://localhost:8080/",
          "height": 204
        },
        "id": "AA1Def0u73u3",
        "scrolled": false,
        "outputId": "e8cd9709-043b-4879-9530-0ba364238e6d"
      },
      "source": [
        "# shows the top 5 entries where PURPOSE is null\n",
        "df[df.PURPOSE.isnull()].head(5)"
      ],
      "execution_count": 33,
      "outputs": [
        {
          "output_type": "execute_result",
          "data": {
            "text/html": [
              "<div>\n",
              "<style scoped>\n",
              "    .dataframe tbody tr th:only-of-type {\n",
              "        vertical-align: middle;\n",
              "    }\n",
              "\n",
              "    .dataframe tbody tr th {\n",
              "        vertical-align: top;\n",
              "    }\n",
              "\n",
              "    .dataframe thead th {\n",
              "        text-align: right;\n",
              "    }\n",
              "</style>\n",
              "<table border=\"1\" class=\"dataframe\">\n",
              "  <thead>\n",
              "    <tr style=\"text-align: right;\">\n",
              "      <th></th>\n",
              "      <th>Trip_Id</th>\n",
              "      <th>START_DATE</th>\n",
              "      <th>END_DATE</th>\n",
              "      <th>CATEGORY</th>\n",
              "      <th>START</th>\n",
              "      <th>STOP</th>\n",
              "      <th>PURPOSE</th>\n",
              "    </tr>\n",
              "  </thead>\n",
              "  <tbody>\n",
              "    <tr>\n",
              "      <th>1</th>\n",
              "      <td>2</td>\n",
              "      <td>01-02-2016 01:25</td>\n",
              "      <td>01-02-2016 01:37</td>\n",
              "      <td>Business</td>\n",
              "      <td>Fort Pierce</td>\n",
              "      <td>Fort Pierce</td>\n",
              "      <td>NaN</td>\n",
              "    </tr>\n",
              "    <tr>\n",
              "      <th>32</th>\n",
              "      <td>33</td>\n",
              "      <td>1/19/2016 9:09</td>\n",
              "      <td>1/19/2016 9:23</td>\n",
              "      <td>Business</td>\n",
              "      <td>Whitebridge</td>\n",
              "      <td>Lake Wellingborough</td>\n",
              "      <td>NaN</td>\n",
              "    </tr>\n",
              "    <tr>\n",
              "      <th>85</th>\n",
              "      <td>86</td>\n",
              "      <td>02-09-2016 10:54</td>\n",
              "      <td>02-09-2016 11:07</td>\n",
              "      <td>Personal</td>\n",
              "      <td>Whitebridge</td>\n",
              "      <td>Northwoods</td>\n",
              "      <td>NaN</td>\n",
              "    </tr>\n",
              "    <tr>\n",
              "      <th>86</th>\n",
              "      <td>87</td>\n",
              "      <td>02-09-2016 11:43</td>\n",
              "      <td>02-09-2016 11:50</td>\n",
              "      <td>Personal</td>\n",
              "      <td>Northwoods</td>\n",
              "      <td>Tanglewood</td>\n",
              "      <td>NaN</td>\n",
              "    </tr>\n",
              "    <tr>\n",
              "      <th>87</th>\n",
              "      <td>88</td>\n",
              "      <td>02-09-2016 13:36</td>\n",
              "      <td>02-09-2016 13:52</td>\n",
              "      <td>Personal</td>\n",
              "      <td>Tanglewood</td>\n",
              "      <td>Preston</td>\n",
              "      <td>NaN</td>\n",
              "    </tr>\n",
              "  </tbody>\n",
              "</table>\n",
              "</div>"
            ],
            "text/plain": [
              "    Trip_Id        START_DATE  ...                 STOP PURPOSE\n",
              "1         2  01-02-2016 01:25  ...          Fort Pierce     NaN\n",
              "32       33    1/19/2016 9:09  ...  Lake Wellingborough     NaN\n",
              "85       86  02-09-2016 10:54  ...           Northwoods     NaN\n",
              "86       87  02-09-2016 11:43  ...           Tanglewood     NaN\n",
              "87       88  02-09-2016 13:36  ...              Preston     NaN\n",
              "\n",
              "[5 rows x 7 columns]"
            ]
          },
          "metadata": {
            "tags": []
          },
          "execution_count": 33
        }
      ]
    },
    {
      "cell_type": "markdown",
      "metadata": {
        "id": "0mGILHvP73u5"
      },
      "source": [
        "\n",
        "#### Filtering out records based on conditions"
      ]
    },
    {
      "cell_type": "code",
      "metadata": {
        "colab": {
          "base_uri": "https://localhost:8080/",
          "height": 204
        },
        "id": "x3eNeRib73u5",
        "outputId": "35194a80-94ba-47e1-838c-82120e39f731"
      },
      "source": [
        "# Conditions within dataframe \n",
        "df_miles[df_miles['MILES'] > 30].head()"
      ],
      "execution_count": 34,
      "outputs": [
        {
          "output_type": "execute_result",
          "data": {
            "text/html": [
              "<div>\n",
              "<style scoped>\n",
              "    .dataframe tbody tr th:only-of-type {\n",
              "        vertical-align: middle;\n",
              "    }\n",
              "\n",
              "    .dataframe tbody tr th {\n",
              "        vertical-align: top;\n",
              "    }\n",
              "\n",
              "    .dataframe thead th {\n",
              "        text-align: right;\n",
              "    }\n",
              "</style>\n",
              "<table border=\"1\" class=\"dataframe\">\n",
              "  <thead>\n",
              "    <tr style=\"text-align: right;\">\n",
              "      <th></th>\n",
              "      <th>Trip_Id</th>\n",
              "      <th>MILES</th>\n",
              "    </tr>\n",
              "  </thead>\n",
              "  <tbody>\n",
              "    <tr>\n",
              "      <th>4</th>\n",
              "      <td>5</td>\n",
              "      <td>63.7</td>\n",
              "    </tr>\n",
              "    <tr>\n",
              "      <th>36</th>\n",
              "      <td>37</td>\n",
              "      <td>40.2</td>\n",
              "    </tr>\n",
              "    <tr>\n",
              "      <th>108</th>\n",
              "      <td>109</td>\n",
              "      <td>43.7</td>\n",
              "    </tr>\n",
              "    <tr>\n",
              "      <th>232</th>\n",
              "      <td>233</td>\n",
              "      <td>136.0</td>\n",
              "    </tr>\n",
              "    <tr>\n",
              "      <th>233</th>\n",
              "      <td>234</td>\n",
              "      <td>30.2</td>\n",
              "    </tr>\n",
              "  </tbody>\n",
              "</table>\n",
              "</div>"
            ],
            "text/plain": [
              "     Trip_Id  MILES\n",
              "4          5   63.7\n",
              "36        37   40.2\n",
              "108      109   43.7\n",
              "232      233  136.0\n",
              "233      234   30.2"
            ]
          },
          "metadata": {
            "tags": []
          },
          "execution_count": 34
        }
      ]
    },
    {
      "cell_type": "markdown",
      "metadata": {
        "id": "8jSvBLWi73vR"
      },
      "source": [
        "## <a id = \"link2\"></a>In a bid to create the driver profile, lets explore the data parameter wise - \n",
        "\n",
        "- 1.Destination - (starting and stopping)\n",
        "\n",
        "- 2.Time - (hour of the day, day of week, month of year)\n",
        "\n",
        "- 3.Grouping two parameters to get more insights\n",
        "\n",
        "- 4.Category and Purpose"
      ]
    },
    {
      "cell_type": "markdown",
      "metadata": {
        "id": "UAamyoph73vR"
      },
      "source": [
        "## 1. Destination\n",
        "### Understanding  the start and stop points \n",
        "###### Through the feature, we will try to understand the below points of the driver profile. \n",
        "- Name and number of all the unique start and stop points\n",
        "- Popular start and stop points\n",
        "- Rides with same start and stop points\n",
        "- Starting point from which most miles have been driven\n",
        "- Start- stop pairs that are most travelled in terms of distance\n",
        "\n",
        "**Let us handle these one by one**"
      ]
    },
    {
      "cell_type": "markdown",
      "metadata": {
        "id": "vt3uGICkjqDk"
      },
      "source": [
        "**1. Name and Number of all unique start and stop points**"
      ]
    },
    {
      "cell_type": "code",
      "metadata": {
        "colab": {
          "base_uri": "https://localhost:8080/"
        },
        "id": "nmE7R0d473vS",
        "outputId": "f35feaf2-2cdb-4adf-eabd-bac8f7a2e80d"
      },
      "source": [
        "# Get the unique starting point, unique destination\n",
        "# names of unique start points\n",
        "print(df['START'].unique())"
      ],
      "execution_count": 35,
      "outputs": [
        {
          "output_type": "stream",
          "text": [
            "['Fort Pierce' 'West Palm Beach' 'Cary' 'Jamaica' 'New York' 'Elmhurst'\n",
            " 'Midtown' 'East Harlem' 'Flatiron District' 'Midtown East'\n",
            " 'Hudson Square' 'Lower Manhattan' \"Hell's Kitchen\" 'Downtown' 'Gulfton'\n",
            " 'Houston' 'Eagan Park' 'Morrisville' 'Durham' 'Farmington Woods'\n",
            " 'Whitebridge' 'Lake Wellingborough' 'Fayetteville Street' 'Raleigh'\n",
            " 'Hazelwood' 'Fairmont' 'Meredith Townes' 'Apex' 'Chapel Hill'\n",
            " 'Northwoods' 'Edgehill Farms' 'Tanglewood' 'Preston' 'Eastgate'\n",
            " 'East Elmhurst' 'Jackson Heights' 'Long Island City' 'Katunayaka'\n",
            " 'Unknown Location' 'Colombo' 'Nugegoda' 'Islamabad' 'R?walpindi'\n",
            " 'Noorpur Shahan' 'Heritage Pines' 'Westpark Place' 'Waverly Place'\n",
            " 'Wayne Ridge' 'Weston' 'East Austin' 'West University' 'South Congress'\n",
            " 'The Drag' 'Congress Ave District' 'Red River District' 'Georgian Acres'\n",
            " 'North Austin' 'Coxville' 'Convention Center District' 'Austin' 'Katy'\n",
            " 'Sharpstown' 'Sugar Land' 'Galveston' 'Port Bolivar' 'Washington Avenue'\n",
            " 'Briar Meadow' 'Latta' 'Jacksonville' 'Couples Glen' 'Kissimmee'\n",
            " 'Lake Reams' 'Orlando' 'Sand Lake Commons' 'Sky Lake' 'Daytona Beach'\n",
            " 'Ridgeland' 'Florence' 'Meredith' 'Holly Springs' 'Chessington'\n",
            " 'Burtrose' 'Parkway' 'Mcvan' 'Capitol One' 'University District'\n",
            " 'Seattle' 'Redmond' 'Bellevue' 'San Francisco' 'Palo Alto' 'Sunnyvale'\n",
            " 'Newark' 'Menlo Park' 'Old City' 'Savon Height' 'Kilarney Woods'\n",
            " 'Townes at Everett Crossing' 'Huntington Woods' 'Seaport'\n",
            " 'Medical Centre' 'Rose Hill' 'Soho' 'Tribeca' 'Financial District'\n",
            " 'Oakland' 'Emeryville' 'Berkeley' 'Kenner' 'CBD' 'Lower Garden District'\n",
            " 'Lakeview' 'Storyville' 'New Orleans' 'Metairie' 'Chalmette' 'Arabi'\n",
            " 'Pontchartrain Shores' 'Marigny' 'Covington' 'Mandeville'\n",
            " 'Jamestown Court' 'Summerwinds' 'Parkwood' 'Pontchartrain Beach'\n",
            " 'St Thomas' 'Banner Elk' 'Elk Park' 'Newland' 'Boone' 'Stonewater'\n",
            " 'Lexington Park at Amberly' 'Arlington Park at Amberly' 'Arlington'\n",
            " 'Kalorama Triangle' 'K Street' 'West End' 'Connecticut Avenue'\n",
            " 'Columbia Heights' 'Washington' 'Wake Forest' 'Lahore' 'Karachi'\n",
            " 'SOMISSPO' 'West Berkeley' 'North Berkeley Hills' 'San Jose' 'Eagle Rock'\n",
            " 'Winston Salem' 'Asheville' 'Topton' 'Hayesville' 'Bryson City' 'Almond'\n",
            " 'Mebane' 'Agnew' 'Cory' 'Renaissance' 'Santa Clara' 'NOMA' 'Sunnyside'\n",
            " 'Ingleside' 'Central' 'Tenderloin' 'College Avenue' 'South' 'Southside'\n",
            " 'South Berkeley' 'Mountain View' 'El Cerrito' 'Krendle Woods' 'Wake Co.'\n",
            " 'Fuquay-Varina' 'Rawalpindi' 'Kar?chi' 'Katunayake' 'Gampaha']\n"
          ],
          "name": "stdout"
        }
      ]
    },
    {
      "cell_type": "code",
      "metadata": {
        "colab": {
          "base_uri": "https://localhost:8080/"
        },
        "id": "SFUlm5TW73vW",
        "outputId": "82d8d14c-9511-45a9-baa7-2e79b498ec23"
      },
      "source": [
        "print(df['START'].nunique())                           # or use can use the nunique function"
      ],
      "execution_count": 36,
      "outputs": [
        {
          "output_type": "stream",
          "text": [
            "177\n"
          ],
          "name": "stdout"
        }
      ]
    },
    {
      "cell_type": "code",
      "metadata": {
        "colab": {
          "base_uri": "https://localhost:8080/"
        },
        "id": "MNH8DaQ773vY",
        "outputId": "41e56348-d65a-49d9-9168-bab3d340c43f"
      },
      "source": [
        "# Get the names of stopping destinations, unique destinations\n",
        "# Names of unique stopping points\n",
        "print(df['STOP'].unique())"
      ],
      "execution_count": 37,
      "outputs": [
        {
          "output_type": "stream",
          "text": [
            "['Fort Pierce' 'West Palm Beach' 'Palm Beach' 'Cary' 'Morrisville'\n",
            " 'New York' 'Queens' 'East Harlem' 'NoMad' 'Midtown' 'Midtown East'\n",
            " 'Hudson Square' 'Lower Manhattan' \"Hell's Kitchen\" 'Queens County'\n",
            " 'Gulfton' 'Downtown' 'Houston' 'Jamestown Court' 'Durham' 'Whitebridge'\n",
            " 'Lake Wellingborough' 'Raleigh' 'Umstead' 'Hazelwood' 'Westpark Place'\n",
            " 'Meredith Townes' 'Leesville Hollow' 'Apex' 'Chapel Hill'\n",
            " 'Williamsburg Manor' 'Macgregor Downs' 'Edgehill Farms' 'Northwoods'\n",
            " 'Tanglewood' 'Preston' 'Walnut Terrace' 'Jackson Heights' 'East Elmhurst'\n",
            " 'Midtown West' 'Long Island City' 'Jamaica' 'Unknown Location' 'Colombo'\n",
            " 'Nugegoda' 'Katunayaka' 'Islamabad' 'R?walpindi' 'Noorpur Shahan'\n",
            " 'Heritage Pines' 'Waverly Place' 'Wayne Ridge' 'Depot Historic District'\n",
            " 'Weston' 'West University' 'South Congress' 'Arts District'\n",
            " 'Congress Ave District' 'Red River District' 'The Drag'\n",
            " 'Convention Center District' 'North Austin' 'Coxville' 'Katy' 'Alief'\n",
            " 'Sharpstown' 'Sugar Land' 'Galveston' 'Port Bolivar' 'Washington Avenue'\n",
            " 'Briar Meadow' 'Greater Greenspoint' 'Latta' 'Jacksonville' 'Kissimmee'\n",
            " 'Isles of Buena Vista' 'Orlando' 'Lake Reams' 'Vista East' 'Sky Lake'\n",
            " 'Sand Lake Commons' 'Daytona Beach' 'Ridgeland' 'Florence' 'Cedar Hill'\n",
            " 'Holly Springs' 'Harden Place' 'Chessington' 'Burtrose' 'Parkway'\n",
            " 'Capitol One' 'University District' 'Redmond' 'Bellevue' 'Seattle'\n",
            " 'Mcvan' 'Palo Alto' 'Sunnyvale' 'Newark' 'Menlo Park' 'San Francisco'\n",
            " 'Parkway Museums' 'Hog Island' 'Savon Height' 'Kildaire Farms'\n",
            " 'Kilarney Woods' 'Gramercy-Flatiron' 'Tudor City' 'Soho' 'Tribeca'\n",
            " 'Financial District' 'Kips Bay' 'Emeryville' 'Berkeley' 'Oakland'\n",
            " 'Bay Farm Island' 'New Orleans' 'Lower Garden District' 'Lakeview'\n",
            " 'Storyville' 'Faubourg Marigny' 'Metairie' 'Kenner' 'Bywater' 'Chalmette'\n",
            " 'Arabi' 'Pontchartrain Shores' 'Marigny' 'Covington' 'Mandeville'\n",
            " 'Summerwinds' 'Parkwood' 'Pontchartrain Beach' 'CBD' 'St Thomas'\n",
            " 'Banner Elk' 'Elk Park' 'Newland' 'Boone' 'Stonewater'\n",
            " 'Lexington Park at Amberly' 'Arlington Park at Amberly' 'Washington'\n",
            " 'K Street' 'Kalorama Triangle' 'Northwest Rectangle' 'Columbia Heights'\n",
            " 'Arlington' 'Farmington Woods' 'Wake Forest' 'Lahore' 'Karachi'\n",
            " 'French Quarter' 'North Berkeley Hills' 'Southside' 'San Jose'\n",
            " 'Eagle Rock' 'Huntington Woods' 'Winston Salem' 'Asheville' 'Topton'\n",
            " 'Hayesville' 'Bryson City' 'Almond' 'Mebane' 'Santa Clara' 'Cory' 'Agnew'\n",
            " 'Renaissance' 'West Berkeley' 'Central' 'Sunnyside' 'Ingleside'\n",
            " 'Potrero Flats' 'SOMISSPO' 'Tenderloin' 'College Avenue' 'South'\n",
            " 'Southwest Berkeley' 'South Berkeley' 'Mountain View' 'El Cerrito'\n",
            " 'Wake Co.' 'Fuquay-Varina' 'Rawalpindi' 'Kar?chi' 'Gampaha' 'Ilukwatta']\n"
          ],
          "name": "stdout"
        }
      ]
    },
    {
      "cell_type": "code",
      "metadata": {
        "colab": {
          "base_uri": "https://localhost:8080/"
        },
        "id": "3O2iTz9j73va",
        "scrolled": false,
        "outputId": "9caaa73d-25a8-4e96-f93c-d32ff39dfe13"
      },
      "source": [
        "print(len(df['STOP'].unique()))            # count of unique stopping points"
      ],
      "execution_count": 38,
      "outputs": [
        {
          "output_type": "stream",
          "text": [
            "188\n"
          ],
          "name": "stdout"
        }
      ]
    },
    {
      "cell_type": "markdown",
      "metadata": {
        "id": "ki30jr-UjqDl"
      },
      "source": [
        "**2a. Identify popular start points - top 10**"
      ]
    },
    {
      "cell_type": "code",
      "metadata": {
        "colab": {
          "base_uri": "https://localhost:8080/"
        },
        "id": "IdfGWVrR73vj",
        "scrolled": true,
        "outputId": "f908cb83-20c1-4e58-d29b-6de051b264d5"
      },
      "source": [
        "df['START'].value_counts().head(10)"
      ],
      "execution_count": 39,
      "outputs": [
        {
          "output_type": "execute_result",
          "data": {
            "text/plain": [
              "Cary                201\n",
              "Unknown Location    148\n",
              "Morrisville          85\n",
              "Whitebridge          68\n",
              "Islamabad            57\n",
              "Durham               37\n",
              "Lahore               36\n",
              "Raleigh              28\n",
              "Kar?chi              27\n",
              "Apex                 17\n",
              "Name: START, dtype: int64"
            ]
          },
          "metadata": {
            "tags": []
          },
          "execution_count": 39
        }
      ]
    },
    {
      "cell_type": "markdown",
      "metadata": {
        "id": "tmMxPKP0jqDl"
      },
      "source": [
        "**2b. Identify popular stop destinations - top 10**"
      ]
    },
    {
      "cell_type": "code",
      "metadata": {
        "colab": {
          "base_uri": "https://localhost:8080/"
        },
        "id": "0_VAzZd573vl",
        "scrolled": true,
        "outputId": "a5a86a2a-cba9-4e90-83f5-b275ecf9700d"
      },
      "source": [
        "\n",
        "df['STOP'].value_counts().head(10)"
      ],
      "execution_count": 40,
      "outputs": [
        {
          "output_type": "execute_result",
          "data": {
            "text/plain": [
              "Cary                203\n",
              "Unknown Location    149\n",
              "Morrisville          84\n",
              "Whitebridge          65\n",
              "Islamabad            58\n",
              "Durham               36\n",
              "Lahore               36\n",
              "Raleigh              29\n",
              "Kar?chi              26\n",
              "Apex                 17\n",
              "Name: STOP, dtype: int64"
            ]
          },
          "metadata": {
            "tags": []
          },
          "execution_count": 40
        }
      ]
    },
    {
      "cell_type": "markdown",
      "metadata": {
        "id": "JVl4EJQCjqDm"
      },
      "source": [
        "**3.  Are there cases where the start and the stop location are the same  ?**"
      ]
    },
    {
      "cell_type": "code",
      "metadata": {
        "colab": {
          "base_uri": "https://localhost:8080/",
          "height": 204
        },
        "id": "ax8JSeaj73vn",
        "scrolled": true,
        "outputId": "879fa856-48c8-49ca-ccac-3ea1539fae29"
      },
      "source": [
        "df[df['START'] == df['STOP']].head(5)"
      ],
      "execution_count": 41,
      "outputs": [
        {
          "output_type": "execute_result",
          "data": {
            "text/html": [
              "<div>\n",
              "<style scoped>\n",
              "    .dataframe tbody tr th:only-of-type {\n",
              "        vertical-align: middle;\n",
              "    }\n",
              "\n",
              "    .dataframe tbody tr th {\n",
              "        vertical-align: top;\n",
              "    }\n",
              "\n",
              "    .dataframe thead th {\n",
              "        text-align: right;\n",
              "    }\n",
              "</style>\n",
              "<table border=\"1\" class=\"dataframe\">\n",
              "  <thead>\n",
              "    <tr style=\"text-align: right;\">\n",
              "      <th></th>\n",
              "      <th>Trip_Id</th>\n",
              "      <th>START_DATE</th>\n",
              "      <th>END_DATE</th>\n",
              "      <th>CATEGORY</th>\n",
              "      <th>START</th>\n",
              "      <th>STOP</th>\n",
              "      <th>PURPOSE</th>\n",
              "    </tr>\n",
              "  </thead>\n",
              "  <tbody>\n",
              "    <tr>\n",
              "      <th>0</th>\n",
              "      <td>1</td>\n",
              "      <td>01-01-2016 21:11</td>\n",
              "      <td>01-01-2016 21:17</td>\n",
              "      <td>Business</td>\n",
              "      <td>Fort Pierce</td>\n",
              "      <td>Fort Pierce</td>\n",
              "      <td>Meal/Entertain</td>\n",
              "    </tr>\n",
              "    <tr>\n",
              "      <th>1</th>\n",
              "      <td>2</td>\n",
              "      <td>01-02-2016 01:25</td>\n",
              "      <td>01-02-2016 01:37</td>\n",
              "      <td>Business</td>\n",
              "      <td>Fort Pierce</td>\n",
              "      <td>Fort Pierce</td>\n",
              "      <td>NaN</td>\n",
              "    </tr>\n",
              "    <tr>\n",
              "      <th>2</th>\n",
              "      <td>3</td>\n",
              "      <td>01-02-2016 20:25</td>\n",
              "      <td>01-02-2016 20:38</td>\n",
              "      <td>Business</td>\n",
              "      <td>Fort Pierce</td>\n",
              "      <td>Fort Pierce</td>\n",
              "      <td>Errand/Supplies</td>\n",
              "    </tr>\n",
              "    <tr>\n",
              "      <th>3</th>\n",
              "      <td>4</td>\n",
              "      <td>01-05-2016 17:31</td>\n",
              "      <td>01-05-2016 17:45</td>\n",
              "      <td>Business</td>\n",
              "      <td>Fort Pierce</td>\n",
              "      <td>Fort Pierce</td>\n",
              "      <td>Meeting</td>\n",
              "    </tr>\n",
              "    <tr>\n",
              "      <th>5</th>\n",
              "      <td>6</td>\n",
              "      <td>01-06-2016 17:15</td>\n",
              "      <td>01-06-2016 17:19</td>\n",
              "      <td>Business</td>\n",
              "      <td>West Palm Beach</td>\n",
              "      <td>West Palm Beach</td>\n",
              "      <td>Meal/Entertain</td>\n",
              "    </tr>\n",
              "  </tbody>\n",
              "</table>\n",
              "</div>"
            ],
            "text/plain": [
              "   Trip_Id        START_DATE  ...             STOP          PURPOSE\n",
              "0        1  01-01-2016 21:11  ...      Fort Pierce   Meal/Entertain\n",
              "1        2  01-02-2016 01:25  ...      Fort Pierce              NaN\n",
              "2        3  01-02-2016 20:25  ...      Fort Pierce  Errand/Supplies\n",
              "3        4  01-05-2016 17:31  ...      Fort Pierce          Meeting\n",
              "5        6  01-06-2016 17:15  ...  West Palm Beach   Meal/Entertain\n",
              "\n",
              "[5 rows x 7 columns]"
            ]
          },
          "metadata": {
            "tags": []
          },
          "execution_count": 41
        }
      ]
    },
    {
      "cell_type": "code",
      "metadata": {
        "id": "CWFGmt2djqDm",
        "scrolled": true,
        "colab": {
          "base_uri": "https://localhost:8080/"
        },
        "outputId": "6edb1359-fe7b-48ba-d6dc-8272653d92a9"
      },
      "source": [
        "df[df['START'] == df['STOP']].shape"
      ],
      "execution_count": 42,
      "outputs": [
        {
          "output_type": "execute_result",
          "data": {
            "text/plain": [
              "(288, 7)"
            ]
          },
          "metadata": {
            "tags": []
          },
          "execution_count": 42
        }
      ]
    },
    {
      "cell_type": "markdown",
      "metadata": {
        "id": "4Vwn8ov2jqDm"
      },
      "source": [
        "**288 trips have the same start and stop points**"
      ]
    },
    {
      "cell_type": "markdown",
      "metadata": {
        "id": "d8F_7jKZjqDm"
      },
      "source": [
        "**4.Starting point from which the most miles have been driven**\n",
        "\n",
        "**In order to use the miles feature, let us now merge the two dataframes so that the all the information is in one dataframe.**\n",
        "- using merge \n"
      ]
    },
    {
      "cell_type": "code",
      "metadata": {
        "id": "MLBPQNyRjqDm",
        "scrolled": true,
        "colab": {
          "base_uri": "https://localhost:8080/",
          "height": 204
        },
        "outputId": "560f4feb-891e-450e-9bda-0acdfa6cc397"
      },
      "source": [
        "df = pd.merge(df, df_miles, on = 'Trip_Id', how = 'left')\n",
        "df.head(5)"
      ],
      "execution_count": 43,
      "outputs": [
        {
          "output_type": "execute_result",
          "data": {
            "text/html": [
              "<div>\n",
              "<style scoped>\n",
              "    .dataframe tbody tr th:only-of-type {\n",
              "        vertical-align: middle;\n",
              "    }\n",
              "\n",
              "    .dataframe tbody tr th {\n",
              "        vertical-align: top;\n",
              "    }\n",
              "\n",
              "    .dataframe thead th {\n",
              "        text-align: right;\n",
              "    }\n",
              "</style>\n",
              "<table border=\"1\" class=\"dataframe\">\n",
              "  <thead>\n",
              "    <tr style=\"text-align: right;\">\n",
              "      <th></th>\n",
              "      <th>Trip_Id</th>\n",
              "      <th>START_DATE</th>\n",
              "      <th>END_DATE</th>\n",
              "      <th>CATEGORY</th>\n",
              "      <th>START</th>\n",
              "      <th>STOP</th>\n",
              "      <th>PURPOSE</th>\n",
              "      <th>MILES</th>\n",
              "    </tr>\n",
              "  </thead>\n",
              "  <tbody>\n",
              "    <tr>\n",
              "      <th>0</th>\n",
              "      <td>1</td>\n",
              "      <td>01-01-2016 21:11</td>\n",
              "      <td>01-01-2016 21:17</td>\n",
              "      <td>Business</td>\n",
              "      <td>Fort Pierce</td>\n",
              "      <td>Fort Pierce</td>\n",
              "      <td>Meal/Entertain</td>\n",
              "      <td>5.1</td>\n",
              "    </tr>\n",
              "    <tr>\n",
              "      <th>1</th>\n",
              "      <td>2</td>\n",
              "      <td>01-02-2016 01:25</td>\n",
              "      <td>01-02-2016 01:37</td>\n",
              "      <td>Business</td>\n",
              "      <td>Fort Pierce</td>\n",
              "      <td>Fort Pierce</td>\n",
              "      <td>NaN</td>\n",
              "      <td>5.0</td>\n",
              "    </tr>\n",
              "    <tr>\n",
              "      <th>2</th>\n",
              "      <td>3</td>\n",
              "      <td>01-02-2016 20:25</td>\n",
              "      <td>01-02-2016 20:38</td>\n",
              "      <td>Business</td>\n",
              "      <td>Fort Pierce</td>\n",
              "      <td>Fort Pierce</td>\n",
              "      <td>Errand/Supplies</td>\n",
              "      <td>4.8</td>\n",
              "    </tr>\n",
              "    <tr>\n",
              "      <th>3</th>\n",
              "      <td>4</td>\n",
              "      <td>01-05-2016 17:31</td>\n",
              "      <td>01-05-2016 17:45</td>\n",
              "      <td>Business</td>\n",
              "      <td>Fort Pierce</td>\n",
              "      <td>Fort Pierce</td>\n",
              "      <td>Meeting</td>\n",
              "      <td>4.7</td>\n",
              "    </tr>\n",
              "    <tr>\n",
              "      <th>4</th>\n",
              "      <td>5</td>\n",
              "      <td>01-06-2016 14:42</td>\n",
              "      <td>01-06-2016 15:49</td>\n",
              "      <td>Business</td>\n",
              "      <td>Fort Pierce</td>\n",
              "      <td>West Palm Beach</td>\n",
              "      <td>Customer Visit</td>\n",
              "      <td>63.7</td>\n",
              "    </tr>\n",
              "  </tbody>\n",
              "</table>\n",
              "</div>"
            ],
            "text/plain": [
              "   Trip_Id        START_DATE  ...          PURPOSE MILES\n",
              "0        1  01-01-2016 21:11  ...   Meal/Entertain   5.1\n",
              "1        2  01-02-2016 01:25  ...              NaN   5.0\n",
              "2        3  01-02-2016 20:25  ...  Errand/Supplies   4.8\n",
              "3        4  01-05-2016 17:31  ...          Meeting   4.7\n",
              "4        5  01-06-2016 14:42  ...   Customer Visit  63.7\n",
              "\n",
              "[5 rows x 8 columns]"
            ]
          },
          "metadata": {
            "tags": []
          },
          "execution_count": 43
        }
      ]
    },
    {
      "cell_type": "markdown",
      "metadata": {
        "id": "BCSFe-qKjqDn"
      },
      "source": [
        "**Let's now use groupby function to find the starting point from which the most miles have been driven**"
      ]
    },
    {
      "cell_type": "code",
      "metadata": {
        "colab": {
          "base_uri": "https://localhost:8080/"
        },
        "id": "I1oDU0J-73vr",
        "scrolled": false,
        "outputId": "33a78579-a554-44b0-db10-6dd2dc61d2a6"
      },
      "source": [
        "df.groupby('START')['MILES'].sum().sort_values(ascending = False ).head(10)"
      ],
      "execution_count": 44,
      "outputs": [
        {
          "output_type": "execute_result",
          "data": {
            "text/plain": [
              "START\n",
              "Unknown Location    1976.5\n",
              "Cary                1791.3\n",
              "Morrisville          671.7\n",
              "Raleigh              433.0\n",
              "Islamabad            401.2\n",
              "Durham               384.4\n",
              "Jacksonville         375.2\n",
              "Latta                310.3\n",
              "Asheville            287.7\n",
              "Whitebridge          273.4\n",
              "Name: MILES, dtype: float64"
            ]
          },
          "metadata": {
            "tags": []
          },
          "execution_count": 44
        }
      ]
    },
    {
      "cell_type": "markdown",
      "metadata": {
        "id": "vZAK9oCujqDn"
      },
      "source": [
        "**5. Find the top10 start stop pair that have the most miles covered between them ever.**"
      ]
    },
    {
      "cell_type": "markdown",
      "metadata": {
        "id": "sN8WmJMa73vu"
      },
      "source": [
        "# Let us drop the unknown locations\n",
        "df2 = df[df['START'] != 'Unknown Location']             # Makes a new dataframe, which don't have \"Unknown Location\" as starting point\n",
        "df2 = df2[df2['STOP'] != 'Unknown Location']            # Further updates the df2 dataframe, by removing \"Unknown Location\" as stopping point"
      ]
    },
    {
      "cell_type": "code",
      "metadata": {
        "colab": {
          "base_uri": "https://localhost:8080/",
          "height": 419
        },
        "id": "Qzix_S2V73vu",
        "scrolled": true,
        "outputId": "fb491119-eb0c-4319-8725-5c0b676e594f"
      },
      "source": [
        "df2 = df[df['START'] != 'Unknown Location']\n",
        "df2[df2['STOP'] != 'Unknown Location'] \n"
      ],
      "execution_count": 47,
      "outputs": [
        {
          "output_type": "execute_result",
          "data": {
            "text/html": [
              "<div>\n",
              "<style scoped>\n",
              "    .dataframe tbody tr th:only-of-type {\n",
              "        vertical-align: middle;\n",
              "    }\n",
              "\n",
              "    .dataframe tbody tr th {\n",
              "        vertical-align: top;\n",
              "    }\n",
              "\n",
              "    .dataframe thead th {\n",
              "        text-align: right;\n",
              "    }\n",
              "</style>\n",
              "<table border=\"1\" class=\"dataframe\">\n",
              "  <thead>\n",
              "    <tr style=\"text-align: right;\">\n",
              "      <th></th>\n",
              "      <th>Trip_Id</th>\n",
              "      <th>START_DATE</th>\n",
              "      <th>END_DATE</th>\n",
              "      <th>CATEGORY</th>\n",
              "      <th>START</th>\n",
              "      <th>STOP</th>\n",
              "      <th>PURPOSE</th>\n",
              "      <th>MILES</th>\n",
              "    </tr>\n",
              "  </thead>\n",
              "  <tbody>\n",
              "    <tr>\n",
              "      <th>0</th>\n",
              "      <td>1</td>\n",
              "      <td>01-01-2016 21:11</td>\n",
              "      <td>01-01-2016 21:17</td>\n",
              "      <td>Business</td>\n",
              "      <td>Fort Pierce</td>\n",
              "      <td>Fort Pierce</td>\n",
              "      <td>Meal/Entertain</td>\n",
              "      <td>5.1</td>\n",
              "    </tr>\n",
              "    <tr>\n",
              "      <th>1</th>\n",
              "      <td>2</td>\n",
              "      <td>01-02-2016 01:25</td>\n",
              "      <td>01-02-2016 01:37</td>\n",
              "      <td>Business</td>\n",
              "      <td>Fort Pierce</td>\n",
              "      <td>Fort Pierce</td>\n",
              "      <td>NaN</td>\n",
              "      <td>5.0</td>\n",
              "    </tr>\n",
              "    <tr>\n",
              "      <th>2</th>\n",
              "      <td>3</td>\n",
              "      <td>01-02-2016 20:25</td>\n",
              "      <td>01-02-2016 20:38</td>\n",
              "      <td>Business</td>\n",
              "      <td>Fort Pierce</td>\n",
              "      <td>Fort Pierce</td>\n",
              "      <td>Errand/Supplies</td>\n",
              "      <td>4.8</td>\n",
              "    </tr>\n",
              "    <tr>\n",
              "      <th>3</th>\n",
              "      <td>4</td>\n",
              "      <td>01-05-2016 17:31</td>\n",
              "      <td>01-05-2016 17:45</td>\n",
              "      <td>Business</td>\n",
              "      <td>Fort Pierce</td>\n",
              "      <td>Fort Pierce</td>\n",
              "      <td>Meeting</td>\n",
              "      <td>4.7</td>\n",
              "    </tr>\n",
              "    <tr>\n",
              "      <th>4</th>\n",
              "      <td>5</td>\n",
              "      <td>01-06-2016 14:42</td>\n",
              "      <td>01-06-2016 15:49</td>\n",
              "      <td>Business</td>\n",
              "      <td>Fort Pierce</td>\n",
              "      <td>West Palm Beach</td>\n",
              "      <td>Customer Visit</td>\n",
              "      <td>63.7</td>\n",
              "    </tr>\n",
              "    <tr>\n",
              "      <th>...</th>\n",
              "      <td>...</td>\n",
              "      <td>...</td>\n",
              "      <td>...</td>\n",
              "      <td>...</td>\n",
              "      <td>...</td>\n",
              "      <td>...</td>\n",
              "      <td>...</td>\n",
              "      <td>...</td>\n",
              "    </tr>\n",
              "    <tr>\n",
              "      <th>1148</th>\n",
              "      <td>1149</td>\n",
              "      <td>12/30/2016 16:45</td>\n",
              "      <td>12/30/2016 17:08</td>\n",
              "      <td>Business</td>\n",
              "      <td>Kar?chi</td>\n",
              "      <td>Kar?chi</td>\n",
              "      <td>Meeting</td>\n",
              "      <td>4.6</td>\n",
              "    </tr>\n",
              "    <tr>\n",
              "      <th>1149</th>\n",
              "      <td>1150</td>\n",
              "      <td>12/30/2016 23:06</td>\n",
              "      <td>12/30/2016 23:10</td>\n",
              "      <td>Business</td>\n",
              "      <td>Kar?chi</td>\n",
              "      <td>Kar?chi</td>\n",
              "      <td>Customer Visit</td>\n",
              "      <td>0.8</td>\n",
              "    </tr>\n",
              "    <tr>\n",
              "      <th>1150</th>\n",
              "      <td>1151</td>\n",
              "      <td>12/31/2016 1:07</td>\n",
              "      <td>12/31/2016 1:14</td>\n",
              "      <td>Business</td>\n",
              "      <td>Kar?chi</td>\n",
              "      <td>Kar?chi</td>\n",
              "      <td>Meeting</td>\n",
              "      <td>0.7</td>\n",
              "    </tr>\n",
              "    <tr>\n",
              "      <th>1153</th>\n",
              "      <td>1154</td>\n",
              "      <td>12/31/2016 21:32</td>\n",
              "      <td>12/31/2016 21:50</td>\n",
              "      <td>Business</td>\n",
              "      <td>Katunayake</td>\n",
              "      <td>Gampaha</td>\n",
              "      <td>Temporary Site</td>\n",
              "      <td>6.4</td>\n",
              "    </tr>\n",
              "    <tr>\n",
              "      <th>1154</th>\n",
              "      <td>1155</td>\n",
              "      <td>12/31/2016 22:08</td>\n",
              "      <td>12/31/2016 23:51</td>\n",
              "      <td>Business</td>\n",
              "      <td>Gampaha</td>\n",
              "      <td>Ilukwatta</td>\n",
              "      <td>Temporary Site</td>\n",
              "      <td>48.2</td>\n",
              "    </tr>\n",
              "  </tbody>\n",
              "</table>\n",
              "<p>944 rows × 8 columns</p>\n",
              "</div>"
            ],
            "text/plain": [
              "      Trip_Id        START_DATE  ...          PURPOSE MILES\n",
              "0           1  01-01-2016 21:11  ...   Meal/Entertain   5.1\n",
              "1           2  01-02-2016 01:25  ...              NaN   5.0\n",
              "2           3  01-02-2016 20:25  ...  Errand/Supplies   4.8\n",
              "3           4  01-05-2016 17:31  ...          Meeting   4.7\n",
              "4           5  01-06-2016 14:42  ...   Customer Visit  63.7\n",
              "...       ...               ...  ...              ...   ...\n",
              "1148     1149  12/30/2016 16:45  ...          Meeting   4.6\n",
              "1149     1150  12/30/2016 23:06  ...   Customer Visit   0.8\n",
              "1150     1151   12/31/2016 1:07  ...          Meeting   0.7\n",
              "1153     1154  12/31/2016 21:32  ...   Temporary Site   6.4\n",
              "1154     1155  12/31/2016 22:08  ...   Temporary Site  48.2\n",
              "\n",
              "[944 rows x 8 columns]"
            ]
          },
          "metadata": {
            "tags": []
          },
          "execution_count": 47
        }
      ]
    },
    {
      "cell_type": "code",
      "metadata": {
        "colab": {
          "base_uri": "https://localhost:8080/",
          "height": 359
        },
        "id": "ms6gmNy6VWrd",
        "outputId": "69d7ce5e-2324-4a51-d5d1-760de5932cec"
      },
      "source": [
        "# Creating a dataframe with the top 10 most miles covered between a start stop pair\r\n",
        "\r\n",
        "k3 = df2.groupby(['START','STOP'])['MILES'].sum().sort_values(ascending=False).head(10) \r\n",
        "k3= k3.reset_index() # flatten the dataframe \r\n",
        "k3['Start-Stop'] = k3['START'] + ' - ' + k3['STOP']\r\n",
        "k3 = df2.groupby(['START','STOP'])['MILES'].sum().sort_values(ascending=False).head(10) \r\n",
        "k3= k3.reset_index() # flatten the dataframe \r\n",
        "k3['Start-Stop'] = k3['START'] + ' - ' + k3['STOP']\r\n",
        "k3"
      ],
      "execution_count": 49,
      "outputs": [
        {
          "output_type": "execute_result",
          "data": {
            "text/html": [
              "<div>\n",
              "<style scoped>\n",
              "    .dataframe tbody tr th:only-of-type {\n",
              "        vertical-align: middle;\n",
              "    }\n",
              "\n",
              "    .dataframe tbody tr th {\n",
              "        vertical-align: top;\n",
              "    }\n",
              "\n",
              "    .dataframe thead th {\n",
              "        text-align: right;\n",
              "    }\n",
              "</style>\n",
              "<table border=\"1\" class=\"dataframe\">\n",
              "  <thead>\n",
              "    <tr style=\"text-align: right;\">\n",
              "      <th></th>\n",
              "      <th>START</th>\n",
              "      <th>STOP</th>\n",
              "      <th>MILES</th>\n",
              "      <th>Start-Stop</th>\n",
              "    </tr>\n",
              "  </thead>\n",
              "  <tbody>\n",
              "    <tr>\n",
              "      <th>0</th>\n",
              "      <td>Morrisville</td>\n",
              "      <td>Cary</td>\n",
              "      <td>395.7</td>\n",
              "      <td>Morrisville - Cary</td>\n",
              "    </tr>\n",
              "    <tr>\n",
              "      <th>1</th>\n",
              "      <td>Cary</td>\n",
              "      <td>Durham</td>\n",
              "      <td>390.0</td>\n",
              "      <td>Cary - Durham</td>\n",
              "    </tr>\n",
              "    <tr>\n",
              "      <th>2</th>\n",
              "      <td>Cary</td>\n",
              "      <td>Morrisville</td>\n",
              "      <td>380.0</td>\n",
              "      <td>Cary - Morrisville</td>\n",
              "    </tr>\n",
              "    <tr>\n",
              "      <th>3</th>\n",
              "      <td>Raleigh</td>\n",
              "      <td>Cary</td>\n",
              "      <td>365.7</td>\n",
              "      <td>Raleigh - Cary</td>\n",
              "    </tr>\n",
              "    <tr>\n",
              "      <th>4</th>\n",
              "      <td>Cary</td>\n",
              "      <td>Raleigh</td>\n",
              "      <td>336.5</td>\n",
              "      <td>Cary - Raleigh</td>\n",
              "    </tr>\n",
              "    <tr>\n",
              "      <th>5</th>\n",
              "      <td>Durham</td>\n",
              "      <td>Cary</td>\n",
              "      <td>334.4</td>\n",
              "      <td>Durham - Cary</td>\n",
              "    </tr>\n",
              "    <tr>\n",
              "      <th>6</th>\n",
              "      <td>Latta</td>\n",
              "      <td>Jacksonville</td>\n",
              "      <td>310.3</td>\n",
              "      <td>Latta - Jacksonville</td>\n",
              "    </tr>\n",
              "    <tr>\n",
              "      <th>7</th>\n",
              "      <td>Islamabad</td>\n",
              "      <td>Unknown Location</td>\n",
              "      <td>267.0</td>\n",
              "      <td>Islamabad - Unknown Location</td>\n",
              "    </tr>\n",
              "    <tr>\n",
              "      <th>8</th>\n",
              "      <td>Cary</td>\n",
              "      <td>Cary</td>\n",
              "      <td>255.9</td>\n",
              "      <td>Cary - Cary</td>\n",
              "    </tr>\n",
              "    <tr>\n",
              "      <th>9</th>\n",
              "      <td>R?walpindi</td>\n",
              "      <td>Unknown Location</td>\n",
              "      <td>214.4</td>\n",
              "      <td>R?walpindi - Unknown Location</td>\n",
              "    </tr>\n",
              "  </tbody>\n",
              "</table>\n",
              "</div>"
            ],
            "text/plain": [
              "         START              STOP  MILES                     Start-Stop\n",
              "0  Morrisville              Cary  395.7             Morrisville - Cary\n",
              "1         Cary            Durham  390.0                  Cary - Durham\n",
              "2         Cary       Morrisville  380.0             Cary - Morrisville\n",
              "3      Raleigh              Cary  365.7                 Raleigh - Cary\n",
              "4         Cary           Raleigh  336.5                 Cary - Raleigh\n",
              "5       Durham              Cary  334.4                  Durham - Cary\n",
              "6        Latta      Jacksonville  310.3           Latta - Jacksonville\n",
              "7    Islamabad  Unknown Location  267.0   Islamabad - Unknown Location\n",
              "8         Cary              Cary  255.9                    Cary - Cary\n",
              "9   R?walpindi  Unknown Location  214.4  R?walpindi - Unknown Location"
            ]
          },
          "metadata": {
            "tags": []
          },
          "execution_count": 49
        }
      ]
    },
    {
      "cell_type": "markdown",
      "metadata": {
        "id": "12S-vpsk73v8"
      },
      "source": [
        "**The most popular start to destination pair is Morrisville-Cary**"
      ]
    },
    {
      "cell_type": "markdown",
      "metadata": {
        "id": "AEuPLlqK73v8"
      },
      "source": [
        "<a id = \"link4\"></a>\n",
        "## 2. Start Date - End Date \n",
        "### Manipulating date & time objects\n",
        "#### Lets explore the variables using the below points-\n",
        "- busiest month in terms of number of drives and miles driven\n",
        "- busiest day of the week and preferred start hour \n",
        "- peak hours\n",
        "\n",
        "We will create more features for the trip data to be able to cater to above profile mappings"
      ]
    },
    {
      "cell_type": "code",
      "metadata": {
        "colab": {
          "base_uri": "https://localhost:8080/",
          "height": 142
        },
        "id": "aMvHdBEA73v9",
        "outputId": "8529f096-e1b0-4d61-89b8-3cd5ffad816e"
      },
      "source": [
        "df.head(3)"
      ],
      "execution_count": 50,
      "outputs": [
        {
          "output_type": "execute_result",
          "data": {
            "text/html": [
              "<div>\n",
              "<style scoped>\n",
              "    .dataframe tbody tr th:only-of-type {\n",
              "        vertical-align: middle;\n",
              "    }\n",
              "\n",
              "    .dataframe tbody tr th {\n",
              "        vertical-align: top;\n",
              "    }\n",
              "\n",
              "    .dataframe thead th {\n",
              "        text-align: right;\n",
              "    }\n",
              "</style>\n",
              "<table border=\"1\" class=\"dataframe\">\n",
              "  <thead>\n",
              "    <tr style=\"text-align: right;\">\n",
              "      <th></th>\n",
              "      <th>Trip_Id</th>\n",
              "      <th>START_DATE</th>\n",
              "      <th>END_DATE</th>\n",
              "      <th>CATEGORY</th>\n",
              "      <th>START</th>\n",
              "      <th>STOP</th>\n",
              "      <th>PURPOSE</th>\n",
              "      <th>MILES</th>\n",
              "    </tr>\n",
              "  </thead>\n",
              "  <tbody>\n",
              "    <tr>\n",
              "      <th>0</th>\n",
              "      <td>1</td>\n",
              "      <td>01-01-2016 21:11</td>\n",
              "      <td>01-01-2016 21:17</td>\n",
              "      <td>Business</td>\n",
              "      <td>Fort Pierce</td>\n",
              "      <td>Fort Pierce</td>\n",
              "      <td>Meal/Entertain</td>\n",
              "      <td>5.1</td>\n",
              "    </tr>\n",
              "    <tr>\n",
              "      <th>1</th>\n",
              "      <td>2</td>\n",
              "      <td>01-02-2016 01:25</td>\n",
              "      <td>01-02-2016 01:37</td>\n",
              "      <td>Business</td>\n",
              "      <td>Fort Pierce</td>\n",
              "      <td>Fort Pierce</td>\n",
              "      <td>NaN</td>\n",
              "      <td>5.0</td>\n",
              "    </tr>\n",
              "    <tr>\n",
              "      <th>2</th>\n",
              "      <td>3</td>\n",
              "      <td>01-02-2016 20:25</td>\n",
              "      <td>01-02-2016 20:38</td>\n",
              "      <td>Business</td>\n",
              "      <td>Fort Pierce</td>\n",
              "      <td>Fort Pierce</td>\n",
              "      <td>Errand/Supplies</td>\n",
              "      <td>4.8</td>\n",
              "    </tr>\n",
              "  </tbody>\n",
              "</table>\n",
              "</div>"
            ],
            "text/plain": [
              "   Trip_Id        START_DATE  ...          PURPOSE MILES\n",
              "0        1  01-01-2016 21:11  ...   Meal/Entertain   5.1\n",
              "1        2  01-02-2016 01:25  ...              NaN   5.0\n",
              "2        3  01-02-2016 20:25  ...  Errand/Supplies   4.8\n",
              "\n",
              "[3 rows x 8 columns]"
            ]
          },
          "metadata": {
            "tags": []
          },
          "execution_count": 50
        }
      ]
    },
    {
      "cell_type": "code",
      "metadata": {
        "colab": {
          "base_uri": "https://localhost:8080/"
        },
        "id": "x73FrX-C73v_",
        "scrolled": true,
        "outputId": "7916dffc-195c-419e-f45a-9bedbcff7d51"
      },
      "source": [
        "df.dtypes"
      ],
      "execution_count": 51,
      "outputs": [
        {
          "output_type": "execute_result",
          "data": {
            "text/plain": [
              "Trip_Id         int64\n",
              "START_DATE     object\n",
              "END_DATE       object\n",
              "CATEGORY       object\n",
              "START          object\n",
              "STOP           object\n",
              "PURPOSE        object\n",
              "MILES         float64\n",
              "dtype: object"
            ]
          },
          "metadata": {
            "tags": []
          },
          "execution_count": 51
        }
      ]
    },
    {
      "cell_type": "code",
      "metadata": {
        "id": "0wu_rDvC73wB"
      },
      "source": [
        "# Create columns by converting the start and end date into a datatime format\n",
        "# You can also over write the same column - but for the sake of understanding the difference in formats, we create new columns\n",
        "\n",
        "df['start_dt'] = pd.to_datetime(df['START_DATE'])\n",
        "df['end_dt'] = pd.to_datetime(df['END_DATE'])"
      ],
      "execution_count": 52,
      "outputs": []
    },
    {
      "cell_type": "code",
      "metadata": {
        "colab": {
          "base_uri": "https://localhost:8080/",
          "height": 204
        },
        "id": "mzEZTrdZ73wD",
        "outputId": "d9d850b7-6e54-490e-eebc-45054dac2979"
      },
      "source": [
        "df.head()             # Print first 5 rows of data."
      ],
      "execution_count": 53,
      "outputs": [
        {
          "output_type": "execute_result",
          "data": {
            "text/html": [
              "<div>\n",
              "<style scoped>\n",
              "    .dataframe tbody tr th:only-of-type {\n",
              "        vertical-align: middle;\n",
              "    }\n",
              "\n",
              "    .dataframe tbody tr th {\n",
              "        vertical-align: top;\n",
              "    }\n",
              "\n",
              "    .dataframe thead th {\n",
              "        text-align: right;\n",
              "    }\n",
              "</style>\n",
              "<table border=\"1\" class=\"dataframe\">\n",
              "  <thead>\n",
              "    <tr style=\"text-align: right;\">\n",
              "      <th></th>\n",
              "      <th>Trip_Id</th>\n",
              "      <th>START_DATE</th>\n",
              "      <th>END_DATE</th>\n",
              "      <th>CATEGORY</th>\n",
              "      <th>START</th>\n",
              "      <th>STOP</th>\n",
              "      <th>PURPOSE</th>\n",
              "      <th>MILES</th>\n",
              "      <th>start_dt</th>\n",
              "      <th>end_dt</th>\n",
              "    </tr>\n",
              "  </thead>\n",
              "  <tbody>\n",
              "    <tr>\n",
              "      <th>0</th>\n",
              "      <td>1</td>\n",
              "      <td>01-01-2016 21:11</td>\n",
              "      <td>01-01-2016 21:17</td>\n",
              "      <td>Business</td>\n",
              "      <td>Fort Pierce</td>\n",
              "      <td>Fort Pierce</td>\n",
              "      <td>Meal/Entertain</td>\n",
              "      <td>5.1</td>\n",
              "      <td>2016-01-01 21:11:00</td>\n",
              "      <td>2016-01-01 21:17:00</td>\n",
              "    </tr>\n",
              "    <tr>\n",
              "      <th>1</th>\n",
              "      <td>2</td>\n",
              "      <td>01-02-2016 01:25</td>\n",
              "      <td>01-02-2016 01:37</td>\n",
              "      <td>Business</td>\n",
              "      <td>Fort Pierce</td>\n",
              "      <td>Fort Pierce</td>\n",
              "      <td>NaN</td>\n",
              "      <td>5.0</td>\n",
              "      <td>2016-01-02 01:25:00</td>\n",
              "      <td>2016-01-02 01:37:00</td>\n",
              "    </tr>\n",
              "    <tr>\n",
              "      <th>2</th>\n",
              "      <td>3</td>\n",
              "      <td>01-02-2016 20:25</td>\n",
              "      <td>01-02-2016 20:38</td>\n",
              "      <td>Business</td>\n",
              "      <td>Fort Pierce</td>\n",
              "      <td>Fort Pierce</td>\n",
              "      <td>Errand/Supplies</td>\n",
              "      <td>4.8</td>\n",
              "      <td>2016-01-02 20:25:00</td>\n",
              "      <td>2016-01-02 20:38:00</td>\n",
              "    </tr>\n",
              "    <tr>\n",
              "      <th>3</th>\n",
              "      <td>4</td>\n",
              "      <td>01-05-2016 17:31</td>\n",
              "      <td>01-05-2016 17:45</td>\n",
              "      <td>Business</td>\n",
              "      <td>Fort Pierce</td>\n",
              "      <td>Fort Pierce</td>\n",
              "      <td>Meeting</td>\n",
              "      <td>4.7</td>\n",
              "      <td>2016-01-05 17:31:00</td>\n",
              "      <td>2016-01-05 17:45:00</td>\n",
              "    </tr>\n",
              "    <tr>\n",
              "      <th>4</th>\n",
              "      <td>5</td>\n",
              "      <td>01-06-2016 14:42</td>\n",
              "      <td>01-06-2016 15:49</td>\n",
              "      <td>Business</td>\n",
              "      <td>Fort Pierce</td>\n",
              "      <td>West Palm Beach</td>\n",
              "      <td>Customer Visit</td>\n",
              "      <td>63.7</td>\n",
              "      <td>2016-01-06 14:42:00</td>\n",
              "      <td>2016-01-06 15:49:00</td>\n",
              "    </tr>\n",
              "  </tbody>\n",
              "</table>\n",
              "</div>"
            ],
            "text/plain": [
              "   Trip_Id        START_DATE  ...            start_dt              end_dt\n",
              "0        1  01-01-2016 21:11  ... 2016-01-01 21:11:00 2016-01-01 21:17:00\n",
              "1        2  01-02-2016 01:25  ... 2016-01-02 01:25:00 2016-01-02 01:37:00\n",
              "2        3  01-02-2016 20:25  ... 2016-01-02 20:25:00 2016-01-02 20:38:00\n",
              "3        4  01-05-2016 17:31  ... 2016-01-05 17:31:00 2016-01-05 17:45:00\n",
              "4        5  01-06-2016 14:42  ... 2016-01-06 14:42:00 2016-01-06 15:49:00\n",
              "\n",
              "[5 rows x 10 columns]"
            ]
          },
          "metadata": {
            "tags": []
          },
          "execution_count": 53
        }
      ]
    },
    {
      "cell_type": "code",
      "metadata": {
        "colab": {
          "base_uri": "https://localhost:8080/"
        },
        "id": "-ViyTibxKhM-",
        "outputId": "f7b2e89f-fa4c-458a-ae32-2b4de49d9fe7"
      },
      "source": [
        "df.dtypes             # See how the dtype is different"
      ],
      "execution_count": 54,
      "outputs": [
        {
          "output_type": "execute_result",
          "data": {
            "text/plain": [
              "Trip_Id                int64\n",
              "START_DATE            object\n",
              "END_DATE              object\n",
              "CATEGORY              object\n",
              "START                 object\n",
              "STOP                  object\n",
              "PURPOSE               object\n",
              "MILES                float64\n",
              "start_dt      datetime64[ns]\n",
              "end_dt        datetime64[ns]\n",
              "dtype: object"
            ]
          },
          "metadata": {
            "tags": []
          },
          "execution_count": 54
        }
      ]
    },
    {
      "cell_type": "code",
      "metadata": {
        "id": "BUjYhgB173wH"
      },
      "source": [
        "# Create more columns by using the inbuilt functionalities of datatime module\n",
        "\n",
        "df['start_day'] = df['start_dt'].dt.day\n",
        "df['start_hour'] = df['start_dt'].dt.hour\n",
        "df['start_month'] = df['start_dt'].dt.month\n",
        "df['d_of_wk'] = df['start_dt'].dt.dayofweek   # Days encoded as 0-6  ( monday =0, Tue =1 .... )"
      ],
      "execution_count": 55,
      "outputs": []
    },
    {
      "cell_type": "code",
      "metadata": {
        "id": "Snw6YSyHjqDp",
        "colab": {
          "base_uri": "https://localhost:8080/",
          "height": 483
        },
        "outputId": "3942b8b6-f3cb-4ca3-f28f-c1c36c8832d4"
      },
      "source": [
        "df.head().T"
      ],
      "execution_count": 56,
      "outputs": [
        {
          "output_type": "execute_result",
          "data": {
            "text/html": [
              "<div>\n",
              "<style scoped>\n",
              "    .dataframe tbody tr th:only-of-type {\n",
              "        vertical-align: middle;\n",
              "    }\n",
              "\n",
              "    .dataframe tbody tr th {\n",
              "        vertical-align: top;\n",
              "    }\n",
              "\n",
              "    .dataframe thead th {\n",
              "        text-align: right;\n",
              "    }\n",
              "</style>\n",
              "<table border=\"1\" class=\"dataframe\">\n",
              "  <thead>\n",
              "    <tr style=\"text-align: right;\">\n",
              "      <th></th>\n",
              "      <th>0</th>\n",
              "      <th>1</th>\n",
              "      <th>2</th>\n",
              "      <th>3</th>\n",
              "      <th>4</th>\n",
              "    </tr>\n",
              "  </thead>\n",
              "  <tbody>\n",
              "    <tr>\n",
              "      <th>Trip_Id</th>\n",
              "      <td>1</td>\n",
              "      <td>2</td>\n",
              "      <td>3</td>\n",
              "      <td>4</td>\n",
              "      <td>5</td>\n",
              "    </tr>\n",
              "    <tr>\n",
              "      <th>START_DATE</th>\n",
              "      <td>01-01-2016 21:11</td>\n",
              "      <td>01-02-2016 01:25</td>\n",
              "      <td>01-02-2016 20:25</td>\n",
              "      <td>01-05-2016 17:31</td>\n",
              "      <td>01-06-2016 14:42</td>\n",
              "    </tr>\n",
              "    <tr>\n",
              "      <th>END_DATE</th>\n",
              "      <td>01-01-2016 21:17</td>\n",
              "      <td>01-02-2016 01:37</td>\n",
              "      <td>01-02-2016 20:38</td>\n",
              "      <td>01-05-2016 17:45</td>\n",
              "      <td>01-06-2016 15:49</td>\n",
              "    </tr>\n",
              "    <tr>\n",
              "      <th>CATEGORY</th>\n",
              "      <td>Business</td>\n",
              "      <td>Business</td>\n",
              "      <td>Business</td>\n",
              "      <td>Business</td>\n",
              "      <td>Business</td>\n",
              "    </tr>\n",
              "    <tr>\n",
              "      <th>START</th>\n",
              "      <td>Fort Pierce</td>\n",
              "      <td>Fort Pierce</td>\n",
              "      <td>Fort Pierce</td>\n",
              "      <td>Fort Pierce</td>\n",
              "      <td>Fort Pierce</td>\n",
              "    </tr>\n",
              "    <tr>\n",
              "      <th>STOP</th>\n",
              "      <td>Fort Pierce</td>\n",
              "      <td>Fort Pierce</td>\n",
              "      <td>Fort Pierce</td>\n",
              "      <td>Fort Pierce</td>\n",
              "      <td>West Palm Beach</td>\n",
              "    </tr>\n",
              "    <tr>\n",
              "      <th>PURPOSE</th>\n",
              "      <td>Meal/Entertain</td>\n",
              "      <td>NaN</td>\n",
              "      <td>Errand/Supplies</td>\n",
              "      <td>Meeting</td>\n",
              "      <td>Customer Visit</td>\n",
              "    </tr>\n",
              "    <tr>\n",
              "      <th>MILES</th>\n",
              "      <td>5.1</td>\n",
              "      <td>5</td>\n",
              "      <td>4.8</td>\n",
              "      <td>4.7</td>\n",
              "      <td>63.7</td>\n",
              "    </tr>\n",
              "    <tr>\n",
              "      <th>start_dt</th>\n",
              "      <td>2016-01-01 21:11:00</td>\n",
              "      <td>2016-01-02 01:25:00</td>\n",
              "      <td>2016-01-02 20:25:00</td>\n",
              "      <td>2016-01-05 17:31:00</td>\n",
              "      <td>2016-01-06 14:42:00</td>\n",
              "    </tr>\n",
              "    <tr>\n",
              "      <th>end_dt</th>\n",
              "      <td>2016-01-01 21:17:00</td>\n",
              "      <td>2016-01-02 01:37:00</td>\n",
              "      <td>2016-01-02 20:38:00</td>\n",
              "      <td>2016-01-05 17:45:00</td>\n",
              "      <td>2016-01-06 15:49:00</td>\n",
              "    </tr>\n",
              "    <tr>\n",
              "      <th>start_day</th>\n",
              "      <td>1</td>\n",
              "      <td>2</td>\n",
              "      <td>2</td>\n",
              "      <td>5</td>\n",
              "      <td>6</td>\n",
              "    </tr>\n",
              "    <tr>\n",
              "      <th>start_hour</th>\n",
              "      <td>21</td>\n",
              "      <td>1</td>\n",
              "      <td>20</td>\n",
              "      <td>17</td>\n",
              "      <td>14</td>\n",
              "    </tr>\n",
              "    <tr>\n",
              "      <th>start_month</th>\n",
              "      <td>1</td>\n",
              "      <td>1</td>\n",
              "      <td>1</td>\n",
              "      <td>1</td>\n",
              "      <td>1</td>\n",
              "    </tr>\n",
              "    <tr>\n",
              "      <th>d_of_wk</th>\n",
              "      <td>4</td>\n",
              "      <td>5</td>\n",
              "      <td>5</td>\n",
              "      <td>1</td>\n",
              "      <td>2</td>\n",
              "    </tr>\n",
              "  </tbody>\n",
              "</table>\n",
              "</div>"
            ],
            "text/plain": [
              "                               0  ...                    4\n",
              "Trip_Id                        1  ...                    5\n",
              "START_DATE      01-01-2016 21:11  ...     01-06-2016 14:42\n",
              "END_DATE        01-01-2016 21:17  ...     01-06-2016 15:49\n",
              "CATEGORY                Business  ...             Business\n",
              "START                Fort Pierce  ...          Fort Pierce\n",
              "STOP                 Fort Pierce  ...      West Palm Beach\n",
              "PURPOSE           Meal/Entertain  ...       Customer Visit\n",
              "MILES                        5.1  ...                 63.7\n",
              "start_dt     2016-01-01 21:11:00  ...  2016-01-06 14:42:00\n",
              "end_dt       2016-01-01 21:17:00  ...  2016-01-06 15:49:00\n",
              "start_day                      1  ...                    6\n",
              "start_hour                    21  ...                   14\n",
              "start_month                    1  ...                    1\n",
              "d_of_wk                        4  ...                    2\n",
              "\n",
              "[14 rows x 5 columns]"
            ]
          },
          "metadata": {
            "tags": []
          },
          "execution_count": 56
        }
      ]
    },
    {
      "cell_type": "code",
      "metadata": {
        "id": "ZPsOvrKm73wL"
      },
      "source": [
        "df['weekday'] = df['start_dt'].apply(lambda x : datetime.strftime(x,'%a'))  # ( or directly convert into the short form)"
      ],
      "execution_count": 57,
      "outputs": []
    },
    {
      "cell_type": "code",
      "metadata": {
        "id": "gPowYL2DjqDq",
        "scrolled": true,
        "colab": {
          "base_uri": "https://localhost:8080/",
          "height": 514
        },
        "outputId": "1c8bcac9-0fa3-41c7-92da-ea1d3f73eff3"
      },
      "source": [
        "df.head().T"
      ],
      "execution_count": 58,
      "outputs": [
        {
          "output_type": "execute_result",
          "data": {
            "text/html": [
              "<div>\n",
              "<style scoped>\n",
              "    .dataframe tbody tr th:only-of-type {\n",
              "        vertical-align: middle;\n",
              "    }\n",
              "\n",
              "    .dataframe tbody tr th {\n",
              "        vertical-align: top;\n",
              "    }\n",
              "\n",
              "    .dataframe thead th {\n",
              "        text-align: right;\n",
              "    }\n",
              "</style>\n",
              "<table border=\"1\" class=\"dataframe\">\n",
              "  <thead>\n",
              "    <tr style=\"text-align: right;\">\n",
              "      <th></th>\n",
              "      <th>0</th>\n",
              "      <th>1</th>\n",
              "      <th>2</th>\n",
              "      <th>3</th>\n",
              "      <th>4</th>\n",
              "    </tr>\n",
              "  </thead>\n",
              "  <tbody>\n",
              "    <tr>\n",
              "      <th>Trip_Id</th>\n",
              "      <td>1</td>\n",
              "      <td>2</td>\n",
              "      <td>3</td>\n",
              "      <td>4</td>\n",
              "      <td>5</td>\n",
              "    </tr>\n",
              "    <tr>\n",
              "      <th>START_DATE</th>\n",
              "      <td>01-01-2016 21:11</td>\n",
              "      <td>01-02-2016 01:25</td>\n",
              "      <td>01-02-2016 20:25</td>\n",
              "      <td>01-05-2016 17:31</td>\n",
              "      <td>01-06-2016 14:42</td>\n",
              "    </tr>\n",
              "    <tr>\n",
              "      <th>END_DATE</th>\n",
              "      <td>01-01-2016 21:17</td>\n",
              "      <td>01-02-2016 01:37</td>\n",
              "      <td>01-02-2016 20:38</td>\n",
              "      <td>01-05-2016 17:45</td>\n",
              "      <td>01-06-2016 15:49</td>\n",
              "    </tr>\n",
              "    <tr>\n",
              "      <th>CATEGORY</th>\n",
              "      <td>Business</td>\n",
              "      <td>Business</td>\n",
              "      <td>Business</td>\n",
              "      <td>Business</td>\n",
              "      <td>Business</td>\n",
              "    </tr>\n",
              "    <tr>\n",
              "      <th>START</th>\n",
              "      <td>Fort Pierce</td>\n",
              "      <td>Fort Pierce</td>\n",
              "      <td>Fort Pierce</td>\n",
              "      <td>Fort Pierce</td>\n",
              "      <td>Fort Pierce</td>\n",
              "    </tr>\n",
              "    <tr>\n",
              "      <th>STOP</th>\n",
              "      <td>Fort Pierce</td>\n",
              "      <td>Fort Pierce</td>\n",
              "      <td>Fort Pierce</td>\n",
              "      <td>Fort Pierce</td>\n",
              "      <td>West Palm Beach</td>\n",
              "    </tr>\n",
              "    <tr>\n",
              "      <th>PURPOSE</th>\n",
              "      <td>Meal/Entertain</td>\n",
              "      <td>NaN</td>\n",
              "      <td>Errand/Supplies</td>\n",
              "      <td>Meeting</td>\n",
              "      <td>Customer Visit</td>\n",
              "    </tr>\n",
              "    <tr>\n",
              "      <th>MILES</th>\n",
              "      <td>5.1</td>\n",
              "      <td>5</td>\n",
              "      <td>4.8</td>\n",
              "      <td>4.7</td>\n",
              "      <td>63.7</td>\n",
              "    </tr>\n",
              "    <tr>\n",
              "      <th>start_dt</th>\n",
              "      <td>2016-01-01 21:11:00</td>\n",
              "      <td>2016-01-02 01:25:00</td>\n",
              "      <td>2016-01-02 20:25:00</td>\n",
              "      <td>2016-01-05 17:31:00</td>\n",
              "      <td>2016-01-06 14:42:00</td>\n",
              "    </tr>\n",
              "    <tr>\n",
              "      <th>end_dt</th>\n",
              "      <td>2016-01-01 21:17:00</td>\n",
              "      <td>2016-01-02 01:37:00</td>\n",
              "      <td>2016-01-02 20:38:00</td>\n",
              "      <td>2016-01-05 17:45:00</td>\n",
              "      <td>2016-01-06 15:49:00</td>\n",
              "    </tr>\n",
              "    <tr>\n",
              "      <th>start_day</th>\n",
              "      <td>1</td>\n",
              "      <td>2</td>\n",
              "      <td>2</td>\n",
              "      <td>5</td>\n",
              "      <td>6</td>\n",
              "    </tr>\n",
              "    <tr>\n",
              "      <th>start_hour</th>\n",
              "      <td>21</td>\n",
              "      <td>1</td>\n",
              "      <td>20</td>\n",
              "      <td>17</td>\n",
              "      <td>14</td>\n",
              "    </tr>\n",
              "    <tr>\n",
              "      <th>start_month</th>\n",
              "      <td>1</td>\n",
              "      <td>1</td>\n",
              "      <td>1</td>\n",
              "      <td>1</td>\n",
              "      <td>1</td>\n",
              "    </tr>\n",
              "    <tr>\n",
              "      <th>d_of_wk</th>\n",
              "      <td>4</td>\n",
              "      <td>5</td>\n",
              "      <td>5</td>\n",
              "      <td>1</td>\n",
              "      <td>2</td>\n",
              "    </tr>\n",
              "    <tr>\n",
              "      <th>weekday</th>\n",
              "      <td>Fri</td>\n",
              "      <td>Sat</td>\n",
              "      <td>Sat</td>\n",
              "      <td>Tue</td>\n",
              "      <td>Wed</td>\n",
              "    </tr>\n",
              "  </tbody>\n",
              "</table>\n",
              "</div>"
            ],
            "text/plain": [
              "                               0  ...                    4\n",
              "Trip_Id                        1  ...                    5\n",
              "START_DATE      01-01-2016 21:11  ...     01-06-2016 14:42\n",
              "END_DATE        01-01-2016 21:17  ...     01-06-2016 15:49\n",
              "CATEGORY                Business  ...             Business\n",
              "START                Fort Pierce  ...          Fort Pierce\n",
              "STOP                 Fort Pierce  ...      West Palm Beach\n",
              "PURPOSE           Meal/Entertain  ...       Customer Visit\n",
              "MILES                        5.1  ...                 63.7\n",
              "start_dt     2016-01-01 21:11:00  ...  2016-01-06 14:42:00\n",
              "end_dt       2016-01-01 21:17:00  ...  2016-01-06 15:49:00\n",
              "start_day                      1  ...                    6\n",
              "start_hour                    21  ...                   14\n",
              "start_month                    1  ...                    1\n",
              "d_of_wk                        4  ...                    2\n",
              "weekday                      Fri  ...                  Wed\n",
              "\n",
              "[15 rows x 5 columns]"
            ]
          },
          "metadata": {
            "tags": []
          },
          "execution_count": 58
        }
      ]
    },
    {
      "cell_type": "code",
      "metadata": {
        "id": "L-Ehy-L873wM"
      },
      "source": [
        "df['cal_month'] =  df['start_dt'].apply(lambda x : datetime.strftime(x,'%b'))"
      ],
      "execution_count": 59,
      "outputs": []
    },
    {
      "cell_type": "code",
      "metadata": {
        "colab": {
          "base_uri": "https://localhost:8080/",
          "height": 545
        },
        "id": "iCotg9pf73wQ",
        "scrolled": true,
        "outputId": "eb95352a-73e0-4beb-ac63-417a91ff7d7d"
      },
      "source": [
        "df.head().T"
      ],
      "execution_count": 60,
      "outputs": [
        {
          "output_type": "execute_result",
          "data": {
            "text/html": [
              "<div>\n",
              "<style scoped>\n",
              "    .dataframe tbody tr th:only-of-type {\n",
              "        vertical-align: middle;\n",
              "    }\n",
              "\n",
              "    .dataframe tbody tr th {\n",
              "        vertical-align: top;\n",
              "    }\n",
              "\n",
              "    .dataframe thead th {\n",
              "        text-align: right;\n",
              "    }\n",
              "</style>\n",
              "<table border=\"1\" class=\"dataframe\">\n",
              "  <thead>\n",
              "    <tr style=\"text-align: right;\">\n",
              "      <th></th>\n",
              "      <th>0</th>\n",
              "      <th>1</th>\n",
              "      <th>2</th>\n",
              "      <th>3</th>\n",
              "      <th>4</th>\n",
              "    </tr>\n",
              "  </thead>\n",
              "  <tbody>\n",
              "    <tr>\n",
              "      <th>Trip_Id</th>\n",
              "      <td>1</td>\n",
              "      <td>2</td>\n",
              "      <td>3</td>\n",
              "      <td>4</td>\n",
              "      <td>5</td>\n",
              "    </tr>\n",
              "    <tr>\n",
              "      <th>START_DATE</th>\n",
              "      <td>01-01-2016 21:11</td>\n",
              "      <td>01-02-2016 01:25</td>\n",
              "      <td>01-02-2016 20:25</td>\n",
              "      <td>01-05-2016 17:31</td>\n",
              "      <td>01-06-2016 14:42</td>\n",
              "    </tr>\n",
              "    <tr>\n",
              "      <th>END_DATE</th>\n",
              "      <td>01-01-2016 21:17</td>\n",
              "      <td>01-02-2016 01:37</td>\n",
              "      <td>01-02-2016 20:38</td>\n",
              "      <td>01-05-2016 17:45</td>\n",
              "      <td>01-06-2016 15:49</td>\n",
              "    </tr>\n",
              "    <tr>\n",
              "      <th>CATEGORY</th>\n",
              "      <td>Business</td>\n",
              "      <td>Business</td>\n",
              "      <td>Business</td>\n",
              "      <td>Business</td>\n",
              "      <td>Business</td>\n",
              "    </tr>\n",
              "    <tr>\n",
              "      <th>START</th>\n",
              "      <td>Fort Pierce</td>\n",
              "      <td>Fort Pierce</td>\n",
              "      <td>Fort Pierce</td>\n",
              "      <td>Fort Pierce</td>\n",
              "      <td>Fort Pierce</td>\n",
              "    </tr>\n",
              "    <tr>\n",
              "      <th>STOP</th>\n",
              "      <td>Fort Pierce</td>\n",
              "      <td>Fort Pierce</td>\n",
              "      <td>Fort Pierce</td>\n",
              "      <td>Fort Pierce</td>\n",
              "      <td>West Palm Beach</td>\n",
              "    </tr>\n",
              "    <tr>\n",
              "      <th>PURPOSE</th>\n",
              "      <td>Meal/Entertain</td>\n",
              "      <td>NaN</td>\n",
              "      <td>Errand/Supplies</td>\n",
              "      <td>Meeting</td>\n",
              "      <td>Customer Visit</td>\n",
              "    </tr>\n",
              "    <tr>\n",
              "      <th>MILES</th>\n",
              "      <td>5.1</td>\n",
              "      <td>5</td>\n",
              "      <td>4.8</td>\n",
              "      <td>4.7</td>\n",
              "      <td>63.7</td>\n",
              "    </tr>\n",
              "    <tr>\n",
              "      <th>start_dt</th>\n",
              "      <td>2016-01-01 21:11:00</td>\n",
              "      <td>2016-01-02 01:25:00</td>\n",
              "      <td>2016-01-02 20:25:00</td>\n",
              "      <td>2016-01-05 17:31:00</td>\n",
              "      <td>2016-01-06 14:42:00</td>\n",
              "    </tr>\n",
              "    <tr>\n",
              "      <th>end_dt</th>\n",
              "      <td>2016-01-01 21:17:00</td>\n",
              "      <td>2016-01-02 01:37:00</td>\n",
              "      <td>2016-01-02 20:38:00</td>\n",
              "      <td>2016-01-05 17:45:00</td>\n",
              "      <td>2016-01-06 15:49:00</td>\n",
              "    </tr>\n",
              "    <tr>\n",
              "      <th>start_day</th>\n",
              "      <td>1</td>\n",
              "      <td>2</td>\n",
              "      <td>2</td>\n",
              "      <td>5</td>\n",
              "      <td>6</td>\n",
              "    </tr>\n",
              "    <tr>\n",
              "      <th>start_hour</th>\n",
              "      <td>21</td>\n",
              "      <td>1</td>\n",
              "      <td>20</td>\n",
              "      <td>17</td>\n",
              "      <td>14</td>\n",
              "    </tr>\n",
              "    <tr>\n",
              "      <th>start_month</th>\n",
              "      <td>1</td>\n",
              "      <td>1</td>\n",
              "      <td>1</td>\n",
              "      <td>1</td>\n",
              "      <td>1</td>\n",
              "    </tr>\n",
              "    <tr>\n",
              "      <th>d_of_wk</th>\n",
              "      <td>4</td>\n",
              "      <td>5</td>\n",
              "      <td>5</td>\n",
              "      <td>1</td>\n",
              "      <td>2</td>\n",
              "    </tr>\n",
              "    <tr>\n",
              "      <th>weekday</th>\n",
              "      <td>Fri</td>\n",
              "      <td>Sat</td>\n",
              "      <td>Sat</td>\n",
              "      <td>Tue</td>\n",
              "      <td>Wed</td>\n",
              "    </tr>\n",
              "    <tr>\n",
              "      <th>cal_month</th>\n",
              "      <td>Jan</td>\n",
              "      <td>Jan</td>\n",
              "      <td>Jan</td>\n",
              "      <td>Jan</td>\n",
              "      <td>Jan</td>\n",
              "    </tr>\n",
              "  </tbody>\n",
              "</table>\n",
              "</div>"
            ],
            "text/plain": [
              "                               0  ...                    4\n",
              "Trip_Id                        1  ...                    5\n",
              "START_DATE      01-01-2016 21:11  ...     01-06-2016 14:42\n",
              "END_DATE        01-01-2016 21:17  ...     01-06-2016 15:49\n",
              "CATEGORY                Business  ...             Business\n",
              "START                Fort Pierce  ...          Fort Pierce\n",
              "STOP                 Fort Pierce  ...      West Palm Beach\n",
              "PURPOSE           Meal/Entertain  ...       Customer Visit\n",
              "MILES                        5.1  ...                 63.7\n",
              "start_dt     2016-01-01 21:11:00  ...  2016-01-06 14:42:00\n",
              "end_dt       2016-01-01 21:17:00  ...  2016-01-06 15:49:00\n",
              "start_day                      1  ...                    6\n",
              "start_hour                    21  ...                   14\n",
              "start_month                    1  ...                    1\n",
              "d_of_wk                        4  ...                    2\n",
              "weekday                      Fri  ...                  Wed\n",
              "cal_month                    Jan  ...                  Jan\n",
              "\n",
              "[16 rows x 5 columns]"
            ]
          },
          "metadata": {
            "tags": []
          },
          "execution_count": 60
        }
      ]
    },
    {
      "cell_type": "markdown",
      "metadata": {
        "id": "A4oM-qwtjqDq"
      },
      "source": [
        "**Now let us answer the questions above.**\n",
        "<br>\n",
        "<br>\n",
        "**1. Busiest month in terms of number of drives and miles driven**"
      ]
    },
    {
      "cell_type": "code",
      "metadata": {
        "colab": {
          "base_uri": "https://localhost:8080/"
        },
        "id": "GRUKjqys73wW",
        "scrolled": false,
        "outputId": "adbf5e16-3c50-4a03-90fe-57e3d4972b71"
      },
      "source": [
        "#groupby calender months and count the number of drives\n",
        "df.groupby('cal_month').count()['Trip_Id'].sort_values(ascending = False)           "
      ],
      "execution_count": 61,
      "outputs": [
        {
          "output_type": "execute_result",
          "data": {
            "text/plain": [
              "cal_month\n",
              "Dec    146\n",
              "Aug    133\n",
              "Nov    122\n",
              "Feb    115\n",
              "Mar    113\n",
              "Jul    112\n",
              "Jun    108\n",
              "Oct    106\n",
              "Jan     61\n",
              "Apr     54\n",
              "May     49\n",
              "Sep     36\n",
              "Name: Trip_Id, dtype: int64"
            ]
          },
          "metadata": {
            "tags": []
          },
          "execution_count": 61
        }
      ]
    },
    {
      "cell_type": "markdown",
      "metadata": {
        "id": "zOto16I4jqDr"
      },
      "source": [
        "**December appears to be the busiest month in terms of number of drives**"
      ]
    },
    {
      "cell_type": "code",
      "metadata": {
        "id": "CFBd5lbWjqDr",
        "scrolled": true,
        "colab": {
          "base_uri": "https://localhost:8080/"
        },
        "outputId": "ef150cea-0133-4c35-aa4e-35b61ae8721f"
      },
      "source": [
        "#groupby calender months and count the number of drives\n",
        "df.groupby('cal_month').sum()['MILES'].sort_values(ascending = False)           "
      ],
      "execution_count": 62,
      "outputs": [
        {
          "output_type": "execute_result",
          "data": {
            "text/plain": [
              "cal_month\n",
              "Oct    1810.0\n",
              "Mar    1693.9\n",
              "Aug    1335.5\n",
              "Jul    1224.6\n",
              "Apr    1113.0\n",
              "Dec     981.3\n",
              "Feb     908.2\n",
              "Jun     842.8\n",
              "Nov     816.9\n",
              "Sep     601.8\n",
              "Jan     512.9\n",
              "May     363.8\n",
              "Name: MILES, dtype: float64"
            ]
          },
          "metadata": {
            "tags": []
          },
          "execution_count": 62
        }
      ]
    },
    {
      "cell_type": "markdown",
      "metadata": {
        "id": "_gZmt-fyjqDr"
      },
      "source": [
        "**October appears to be the busiest month in terms of miles driven**"
      ]
    },
    {
      "cell_type": "markdown",
      "metadata": {
        "id": "QtWFspbPjqDs"
      },
      "source": [
        "**2. Busiest day in terms of number of rides**"
      ]
    },
    {
      "cell_type": "code",
      "metadata": {
        "colab": {
          "base_uri": "https://localhost:8080/"
        },
        "id": "UHWuwGBw73wb",
        "outputId": "c270d871-2efa-423d-9a16-80b1f8b7fdf2"
      },
      "source": [
        "# Which day did the driver get most drives? \n",
        "\n",
        "df.groupby(['weekday']).size()  \n",
        "#note that .count() could also have been used. However, .size() makes it look more clean."
      ],
      "execution_count": 63,
      "outputs": [
        {
          "output_type": "execute_result",
          "data": {
            "text/plain": [
              "weekday\n",
              "Fri    206\n",
              "Mon    174\n",
              "Sat    150\n",
              "Sun    148\n",
              "Thu    154\n",
              "Tue    176\n",
              "Wed    147\n",
              "dtype: int64"
            ]
          },
          "metadata": {
            "tags": []
          },
          "execution_count": 63
        }
      ]
    },
    {
      "cell_type": "markdown",
      "metadata": {
        "id": "myRVUvO073we"
      },
      "source": [
        "**3. Peak hours ?**"
      ]
    },
    {
      "cell_type": "code",
      "metadata": {
        "colab": {
          "base_uri": "https://localhost:8080/"
        },
        "id": "rkesjjDV73we",
        "outputId": "124587d2-f7ca-43a8-f5b2-e7d87c235a8d"
      },
      "source": [
        "df.groupby('start_hour').size()             # The number of trips started for each hour."
      ],
      "execution_count": 64,
      "outputs": [
        {
          "output_type": "execute_result",
          "data": {
            "text/plain": [
              "start_hour\n",
              "0     19\n",
              "1      5\n",
              "2      2\n",
              "3      3\n",
              "5      4\n",
              "6      4\n",
              "7     13\n",
              "8     35\n",
              "9     51\n",
              "10    65\n",
              "11    72\n",
              "12    77\n",
              "13    94\n",
              "14    89\n",
              "15    98\n",
              "16    88\n",
              "17    95\n",
              "18    94\n",
              "19    68\n",
              "20    71\n",
              "21    51\n",
              "22    31\n",
              "23    26\n",
              "dtype: int64"
            ]
          },
          "metadata": {
            "tags": []
          },
          "execution_count": 64
        }
      ]
    },
    {
      "cell_type": "markdown",
      "metadata": {
        "id": "iY9t7tHK73wg"
      },
      "source": [
        "**Looks like the peak hours seem to be between 13PM - 6PM**"
      ]
    },
    {
      "cell_type": "markdown",
      "metadata": {
        "id": "FuAyy6-_jqDt"
      },
      "source": [
        "#### For practice - figure out the trips that are starting and ending at the same time (0 minutes elapsed).<br>\n",
        "The first step is in the cell below. Try to figure out the rest of the steps after this session. \n",
        "<br>"
      ]
    },
    {
      "cell_type": "code",
      "metadata": {
        "id": "w9f_7Toz73wp"
      },
      "source": [
        "df['diff'] = (df['end_dt'] - df['start_dt'])"
      ],
      "execution_count": 65,
      "outputs": []
    },
    {
      "cell_type": "markdown",
      "metadata": {
        "id": "KRW20r1S73wt"
      },
      "source": [
        "This creates a timedelta datatype"
      ]
    },
    {
      "cell_type": "markdown",
      "metadata": {
        "id": "WLH7zHmN73wv"
      },
      "source": [
        "Find the date time units in  https://docs.scipy.org/doc/numpy/reference/arrays.datetime.html\n",
        "\n",
        "search for 'Datetime Units'"
      ]
    },
    {
      "cell_type": "markdown",
      "metadata": {
        "id": "rw4cx0F873w6"
      },
      "source": [
        "#### For practice- Exploring existing features to create new ones - Speed \n",
        "- Open for all of you to explore and figure out what all can be understood and derived from this feature"
      ]
    },
    {
      "cell_type": "markdown",
      "metadata": {
        "id": "Ll5jdpAf73xA"
      },
      "source": [
        "## 4. Category & Purpose\n",
        "#### Explore the category and the purpose of the trips through\n",
        "- Most frequent trip category\n",
        "- Most frequent trip purpose\n",
        "- Miles driven per category and purpose\n",
        "- Percent composition of business miles vs personal miles\n",
        "- time spent per category and purpose"
      ]
    },
    {
      "cell_type": "markdown",
      "metadata": {
        "id": "kqJ8MwtDjqDu"
      },
      "source": [
        "**1. Most frequent trip category**"
      ]
    },
    {
      "cell_type": "code",
      "metadata": {
        "colab": {
          "base_uri": "https://localhost:8080/"
        },
        "id": "gquL3BUv73xA",
        "outputId": "b8db025a-2acb-4a49-b5eb-0d80c2929f49"
      },
      "source": [
        "df['CATEGORY'].value_counts()"
      ],
      "execution_count": 66,
      "outputs": [
        {
          "output_type": "execute_result",
          "data": {
            "text/plain": [
              "Business    1078\n",
              "Personal      77\n",
              "Name: CATEGORY, dtype: int64"
            ]
          },
          "metadata": {
            "tags": []
          },
          "execution_count": 66
        }
      ]
    },
    {
      "cell_type": "markdown",
      "metadata": {
        "id": "P1avZc0473xD"
      },
      "source": [
        "**Most trips are in the business category**"
      ]
    },
    {
      "cell_type": "markdown",
      "metadata": {
        "id": "VHQYJYB5jqDu"
      },
      "source": [
        "**2. Most frequent Purpose**"
      ]
    },
    {
      "cell_type": "code",
      "metadata": {
        "colab": {
          "base_uri": "https://localhost:8080/"
        },
        "id": "1i1t_EpJ73xD",
        "outputId": "ac6b7b1e-4b8b-497d-eef6-134f3bd917f9"
      },
      "source": [
        "#Purpose\n",
        "df['PURPOSE'].value_counts()"
      ],
      "execution_count": 67,
      "outputs": [
        {
          "output_type": "execute_result",
          "data": {
            "text/plain": [
              "Meeting            187\n",
              "Meal/Entertain     160\n",
              "Errand/Supplies    128\n",
              "Customer Visit     101\n",
              "Temporary Site      50\n",
              "Between Offices     18\n",
              "Moving               4\n",
              "Airport/Travel       3\n",
              "Charity ($)          1\n",
              "Commute              1\n",
              "Name: PURPOSE, dtype: int64"
            ]
          },
          "metadata": {
            "tags": []
          },
          "execution_count": 67
        }
      ]
    },
    {
      "cell_type": "markdown",
      "metadata": {
        "id": "I4ninmDJ73xG"
      },
      "source": [
        "**Most trips are for meetings**"
      ]
    },
    {
      "cell_type": "code",
      "metadata": {
        "colab": {
          "base_uri": "https://localhost:8080/"
        },
        "id": "g8PeGQyn73xH",
        "outputId": "25773902-7dd4-4b54-bc03-508bf1d7f437"
      },
      "source": [
        "#Average distance traveled for each activity\n",
        "df.groupby('PURPOSE').mean()['MILES'].sort_values(ascending = False)"
      ],
      "execution_count": 68,
      "outputs": [
        {
          "output_type": "execute_result",
          "data": {
            "text/plain": [
              "PURPOSE\n",
              "Commute            180.200000\n",
              "Customer Visit      20.688119\n",
              "Meeting             15.247594\n",
              "Charity ($)         15.100000\n",
              "Between Offices     10.944444\n",
              "Temporary Site      10.474000\n",
              "Meal/Entertain       5.698125\n",
              "Airport/Travel       5.500000\n",
              "Moving               4.550000\n",
              "Errand/Supplies      3.968750\n",
              "Name: MILES, dtype: float64"
            ]
          },
          "metadata": {
            "tags": []
          },
          "execution_count": 68
        }
      ]
    },
    {
      "cell_type": "markdown",
      "metadata": {
        "id": "Or6uXGAv73xI"
      },
      "source": [
        "**Now lets try to answer some questions from this data.**\n",
        "\n",
        "**Question3**: How many miles were driven per category and purpose ?\n",
        "\n",
        "**Question4**: What is percentage of business miles vs personal?\n",
        "\n",
        "**Question5**: How much time was spend for drives per category and purpose?  - <i>for practice: you will need to create a time difference variable - answers will be shared through a notebook</i>\n"
      ]
    },
    {
      "cell_type": "code",
      "metadata": {
        "colab": {
          "base_uri": "https://localhost:8080/"
        },
        "id": "rLz2LvBk73xJ",
        "outputId": "1c2ffb1b-26be-4e22-e6ee-812039fbee1e"
      },
      "source": [
        "#Question3: How many miles were driven per category and purpose ?\n",
        "df.groupby('PURPOSE').sum()['MILES'].sort_values(ascending = False)"
      ],
      "execution_count": 69,
      "outputs": [
        {
          "output_type": "execute_result",
          "data": {
            "text/plain": [
              "PURPOSE\n",
              "Meeting            2851.3\n",
              "Customer Visit     2089.5\n",
              "Meal/Entertain      911.7\n",
              "Temporary Site      523.7\n",
              "Errand/Supplies     508.0\n",
              "Between Offices     197.0\n",
              "Commute             180.2\n",
              "Moving               18.2\n",
              "Airport/Travel       16.5\n",
              "Charity ($)          15.1\n",
              "Name: MILES, dtype: float64"
            ]
          },
          "metadata": {
            "tags": []
          },
          "execution_count": 69
        }
      ]
    },
    {
      "cell_type": "code",
      "metadata": {
        "colab": {
          "base_uri": "https://localhost:8080/"
        },
        "id": "XpIICZl773xK",
        "outputId": "749f430d-97d5-4514-c243-4ef81812c1d2"
      },
      "source": [
        "#Question3: How many miles were driven per category and purpose ?\n",
        "df.groupby('CATEGORY').sum()['MILES'].sort_values(ascending = False)"
      ],
      "execution_count": 70,
      "outputs": [
        {
          "output_type": "execute_result",
          "data": {
            "text/plain": [
              "CATEGORY\n",
              "Business    11487.0\n",
              "Personal      717.7\n",
              "Name: MILES, dtype: float64"
            ]
          },
          "metadata": {
            "tags": []
          },
          "execution_count": 70
        }
      ]
    },
    {
      "cell_type": "code",
      "metadata": {
        "colab": {
          "base_uri": "https://localhost:8080/",
          "height": 142
        },
        "id": "b_snpubb73xM",
        "scrolled": true,
        "outputId": "0d4e3a3b-da90-4910-aee1-a526d7266073"
      },
      "source": [
        "#Question4: What is percentage of business miles vs personal?\n",
        "df1 = df.groupby('CATEGORY').agg({'MILES':'sum'})\n",
        "df1\n",
        "df1.apply(lambda x: x/x.sum()*100).rename(columns = {'MILES':'% of Miles'})"
      ],
      "execution_count": 71,
      "outputs": [
        {
          "output_type": "execute_result",
          "data": {
            "text/html": [
              "<div>\n",
              "<style scoped>\n",
              "    .dataframe tbody tr th:only-of-type {\n",
              "        vertical-align: middle;\n",
              "    }\n",
              "\n",
              "    .dataframe tbody tr th {\n",
              "        vertical-align: top;\n",
              "    }\n",
              "\n",
              "    .dataframe thead th {\n",
              "        text-align: right;\n",
              "    }\n",
              "</style>\n",
              "<table border=\"1\" class=\"dataframe\">\n",
              "  <thead>\n",
              "    <tr style=\"text-align: right;\">\n",
              "      <th></th>\n",
              "      <th>% of Miles</th>\n",
              "    </tr>\n",
              "    <tr>\n",
              "      <th>CATEGORY</th>\n",
              "      <th></th>\n",
              "    </tr>\n",
              "  </thead>\n",
              "  <tbody>\n",
              "    <tr>\n",
              "      <th>Business</th>\n",
              "      <td>94.119479</td>\n",
              "    </tr>\n",
              "    <tr>\n",
              "      <th>Personal</th>\n",
              "      <td>5.880521</td>\n",
              "    </tr>\n",
              "  </tbody>\n",
              "</table>\n",
              "</div>"
            ],
            "text/plain": [
              "          % of Miles\n",
              "CATEGORY            \n",
              "Business   94.119479\n",
              "Personal    5.880521"
            ]
          },
          "metadata": {
            "tags": []
          },
          "execution_count": 71
        }
      ]
    },
    {
      "cell_type": "markdown",
      "metadata": {
        "id": "RolqOhtUjqDw"
      },
      "source": [
        "## Profile Report - \n",
        "Through the exercise, we discussed the various aspects the driver profile for the uberdriver data given. The insights received were-\n",
        "\n",
        "**Name and number of all the unique start and stop points**<br>\n",
        "We found the unique start and stop points for the driver. We figured out the localities the driver is active in.\n",
        "\n",
        "**Popular start and stop point**<br>\n",
        "Cary has been the most popular start and stop point\n",
        "\n",
        "**Rides with same start and stop points**<br>\n",
        "288 such rides were found\n",
        "\n",
        "**Starting point from which most miles have been driven**<br>\n",
        "Unknown location followed by Cary\n",
        "\n",
        "**Start- stop pairs that are most travelled in terms of distance**<br>\n",
        "Morissville - Cary\n",
        "\n",
        "**busiest month in terms of number of drives and miles driven**<br>\n",
        "In terms of no of drives - December\n",
        "In terms of miles driven - October\n",
        "\n",
        "**busiest day of the week**<br>\n",
        "Friday\n",
        "\n",
        "**peak hours**<br>\n",
        "1PM - 6PM\n",
        "\n",
        "**most frequent trip category**<br>\n",
        "Business\n",
        "\n",
        "**most frequent trip purpose**<br>\n",
        "Meeting\n",
        "\n",
        "**miles driven per category and purpose**<br>\n",
        "We figured these numbers out. Category wise Business and purpose wise meetings were leading in terms of miles driven\n",
        "\n",
        "**percent composition of business miles vs personal miles**<br>\n",
        "Business - 94%\n",
        "Personal - 6%\n",
        "\n",
        "\n",
        "## Summary  -\n",
        "Through this exercise, we tried to check out the data analysis toolkit offered by pandas. We went to explore variables at hand, use groupby, implement datatime manipulation, explored possibility to create new features and various other operations on pandas dataframe.\n",
        "We also had a sneak peek into the upcoming week's topic of visualization.\n",
        "\n",
        "Learners are recommended to explore further on this building on the points discussed in the notebook.\n",
        "Happy Learning!"
      ]
    },
    {
      "cell_type": "code",
      "metadata": {
        "id": "fiq-EvubjqDw"
      },
      "source": [
        ""
      ],
      "execution_count": 71,
      "outputs": []
    }
  ]
}